{
 "cells": [
  {
   "cell_type": "code",
   "execution_count": 1,
   "metadata": {
    "colab": {
     "base_uri": "https://localhost:8080/"
    },
    "id": "PCPZZtpVBNxh",
    "outputId": "e02e9cb4-b782-4d32-d3f2-04ab32f6411c",
    "scrolled": true,
    "ExecuteTime": {
     "end_time": "2023-06-19T09:06:01.005740400Z",
     "start_time": "2023-06-19T09:05:54.739691900Z"
    }
   },
   "outputs": [
    {
     "name": "stdout",
     "output_type": "stream",
     "text": [
      "Looking in indexes: https://pypi.tuna.tsinghua.edu.cn/simple\n",
      "Requirement already satisfied: pandas in d:\\hard\\anaconda\\lib\\site-packages (1.4.2)\n",
      "Requirement already satisfied: numpy in d:\\hard\\anaconda\\lib\\site-packages (1.22.4)\n",
      "Requirement already satisfied: matplotlib in d:\\hard\\anaconda\\lib\\site-packages (3.5.1)\n",
      "Requirement already satisfied: pytz>=2020.1 in d:\\hard\\anaconda\\lib\\site-packages (from pandas) (2021.3)\n",
      "Requirement already satisfied: python-dateutil>=2.8.1 in d:\\hard\\anaconda\\lib\\site-packages (from pandas) (2.8.2)\n",
      "Requirement already satisfied: packaging>=20.0 in d:\\hard\\anaconda\\lib\\site-packages (from matplotlib) (21.3)\n",
      "Requirement already satisfied: fonttools>=4.22.0 in d:\\hard\\anaconda\\lib\\site-packages (from matplotlib) (4.25.0)\n",
      "Requirement already satisfied: kiwisolver>=1.0.1 in d:\\hard\\anaconda\\lib\\site-packages (from matplotlib) (1.3.2)\n",
      "Requirement already satisfied: pillow>=6.2.0 in d:\\hard\\anaconda\\lib\\site-packages (from matplotlib) (9.0.1)\n",
      "Requirement already satisfied: pyparsing>=2.2.1 in d:\\hard\\anaconda\\lib\\site-packages (from matplotlib) (3.0.4)\n",
      "Requirement already satisfied: cycler>=0.10 in d:\\hard\\anaconda\\lib\\site-packages (from matplotlib) (0.11.0)\n",
      "Requirement already satisfied: six>=1.5 in d:\\hard\\anaconda\\lib\\site-packages (from python-dateutil>=2.8.1->pandas) (1.16.0)\n",
      "Looking in indexes: https://pypi.tuna.tsinghua.edu.cn/simple\n",
      "Requirement already satisfied: tensorflow in c:\\users\\rov\\appdata\\roaming\\python\\python39\\site-packages (2.12.0)\n",
      "Requirement already satisfied: tensorflow-intel==2.12.0 in c:\\users\\rov\\appdata\\roaming\\python\\python39\\site-packages (from tensorflow) (2.12.0)\n",
      "Requirement already satisfied: google-pasta>=0.1.1 in d:\\hard\\anaconda\\lib\\site-packages (from tensorflow-intel==2.12.0->tensorflow) (0.2.0)\n",
      "Requirement already satisfied: protobuf!=4.21.0,!=4.21.1,!=4.21.2,!=4.21.3,!=4.21.4,!=4.21.5,<5.0.0dev,>=3.20.3 in d:\\hard\\anaconda\\lib\\site-packages (from tensorflow-intel==2.12.0->tensorflow) (4.23.0)\n",
      "Requirement already satisfied: absl-py>=1.0.0 in d:\\hard\\anaconda\\lib\\site-packages (from tensorflow-intel==2.12.0->tensorflow) (1.4.0)\n",
      "Requirement already satisfied: grpcio<2.0,>=1.24.3 in d:\\hard\\anaconda\\lib\\site-packages (from tensorflow-intel==2.12.0->tensorflow) (1.54.0)\n",
      "Requirement already satisfied: h5py>=2.9.0 in d:\\hard\\anaconda\\lib\\site-packages (from tensorflow-intel==2.12.0->tensorflow) (3.6.0)\n",
      "Requirement already satisfied: tensorflow-estimator<2.13,>=2.12.0 in d:\\hard\\anaconda\\lib\\site-packages (from tensorflow-intel==2.12.0->tensorflow) (2.12.0)\n",
      "Requirement already satisfied: typing-extensions>=3.6.6 in d:\\hard\\anaconda\\lib\\site-packages (from tensorflow-intel==2.12.0->tensorflow) (4.1.1)\n",
      "Requirement already satisfied: termcolor>=1.1.0 in d:\\hard\\anaconda\\lib\\site-packages (from tensorflow-intel==2.12.0->tensorflow) (2.3.0)\n",
      "Requirement already satisfied: tensorflow-io-gcs-filesystem>=0.23.1 in d:\\hard\\anaconda\\lib\\site-packages (from tensorflow-intel==2.12.0->tensorflow) (0.31.0)\n",
      "Requirement already satisfied: astunparse>=1.6.0 in d:\\hard\\anaconda\\lib\\site-packages (from tensorflow-intel==2.12.0->tensorflow) (1.6.3)\n",
      "Requirement already satisfied: libclang>=13.0.0 in d:\\hard\\anaconda\\lib\\site-packages (from tensorflow-intel==2.12.0->tensorflow) (16.0.0)\n",
      "Requirement already satisfied: wrapt<1.15,>=1.11.0 in d:\\hard\\anaconda\\lib\\site-packages (from tensorflow-intel==2.12.0->tensorflow) (1.12.1)\n",
      "Requirement already satisfied: packaging in d:\\hard\\anaconda\\lib\\site-packages (from tensorflow-intel==2.12.0->tensorflow) (21.3)\n",
      "Requirement already satisfied: gast<=0.4.0,>=0.2.1 in d:\\hard\\anaconda\\lib\\site-packages (from tensorflow-intel==2.12.0->tensorflow) (0.4.0)\n",
      "Requirement already satisfied: keras<2.13,>=2.12.0 in d:\\hard\\anaconda\\lib\\site-packages (from tensorflow-intel==2.12.0->tensorflow) (2.12.0)\n",
      "Requirement already satisfied: six>=1.12.0 in d:\\hard\\anaconda\\lib\\site-packages (from tensorflow-intel==2.12.0->tensorflow) (1.16.0)\n",
      "Requirement already satisfied: flatbuffers>=2.0 in d:\\hard\\anaconda\\lib\\site-packages (from tensorflow-intel==2.12.0->tensorflow) (23.5.9)\n",
      "Requirement already satisfied: jax>=0.3.15 in d:\\hard\\anaconda\\lib\\site-packages (from tensorflow-intel==2.12.0->tensorflow) (0.4.9)\n",
      "Requirement already satisfied: setuptools in d:\\hard\\anaconda\\lib\\site-packages (from tensorflow-intel==2.12.0->tensorflow) (67.7.2)\n",
      "Requirement already satisfied: tensorboard<2.13,>=2.12 in d:\\hard\\anaconda\\lib\\site-packages (from tensorflow-intel==2.12.0->tensorflow) (2.12.3)\n",
      "Requirement already satisfied: numpy<1.24,>=1.22 in d:\\hard\\anaconda\\lib\\site-packages (from tensorflow-intel==2.12.0->tensorflow) (1.22.4)\n",
      "Requirement already satisfied: opt-einsum>=2.3.2 in d:\\hard\\anaconda\\lib\\site-packages (from tensorflow-intel==2.12.0->tensorflow) (3.3.0)\n",
      "Requirement already satisfied: wheel<1.0,>=0.23.0 in d:\\hard\\anaconda\\lib\\site-packages (from astunparse>=1.6.0->tensorflow-intel==2.12.0->tensorflow) (0.37.1)\n",
      "Requirement already satisfied: scipy>=1.7 in d:\\hard\\anaconda\\lib\\site-packages (from jax>=0.3.15->tensorflow-intel==2.12.0->tensorflow) (1.7.3)\n",
      "Requirement already satisfied: ml-dtypes>=0.1.0 in d:\\hard\\anaconda\\lib\\site-packages (from jax>=0.3.15->tensorflow-intel==2.12.0->tensorflow) (0.1.0)\n",
      "Requirement already satisfied: tensorboard-data-server<0.8.0,>=0.7.0 in d:\\hard\\anaconda\\lib\\site-packages (from tensorboard<2.13,>=2.12->tensorflow-intel==2.12.0->tensorflow) (0.7.0)\n",
      "Requirement already satisfied: google-auth-oauthlib<1.1,>=0.5 in d:\\hard\\anaconda\\lib\\site-packages (from tensorboard<2.13,>=2.12->tensorflow-intel==2.12.0->tensorflow) (1.0.0)\n",
      "Requirement already satisfied: markdown>=2.6.8 in d:\\hard\\anaconda\\lib\\site-packages (from tensorboard<2.13,>=2.12->tensorflow-intel==2.12.0->tensorflow) (3.3.4)\n",
      "Requirement already satisfied: requests<3,>=2.21.0 in d:\\hard\\anaconda\\lib\\site-packages (from tensorboard<2.13,>=2.12->tensorflow-intel==2.12.0->tensorflow) (2.27.1)\n",
      "Requirement already satisfied: google-auth<3,>=1.6.3 in d:\\hard\\anaconda\\lib\\site-packages (from tensorboard<2.13,>=2.12->tensorflow-intel==2.12.0->tensorflow) (2.18.0)\n",
      "Requirement already satisfied: werkzeug>=1.0.1 in d:\\hard\\anaconda\\lib\\site-packages (from tensorboard<2.13,>=2.12->tensorflow-intel==2.12.0->tensorflow) (2.0.3)\n",
      "Requirement already satisfied: pyasn1-modules>=0.2.1 in d:\\hard\\anaconda\\lib\\site-packages (from google-auth<3,>=1.6.3->tensorboard<2.13,>=2.12->tensorflow-intel==2.12.0->tensorflow) (0.2.8)\n",
      "Requirement already satisfied: cachetools<6.0,>=2.0.0 in d:\\hard\\anaconda\\lib\\site-packages (from google-auth<3,>=1.6.3->tensorboard<2.13,>=2.12->tensorflow-intel==2.12.0->tensorflow) (4.2.2)\n",
      "Requirement already satisfied: urllib3<2.0 in d:\\hard\\anaconda\\lib\\site-packages (from google-auth<3,>=1.6.3->tensorboard<2.13,>=2.12->tensorflow-intel==2.12.0->tensorflow) (1.26.9)\n",
      "Requirement already satisfied: rsa<5,>=3.1.4 in d:\\hard\\anaconda\\lib\\site-packages (from google-auth<3,>=1.6.3->tensorboard<2.13,>=2.12->tensorflow-intel==2.12.0->tensorflow) (4.7.2)\n",
      "Requirement already satisfied: requests-oauthlib>=0.7.0 in d:\\hard\\anaconda\\lib\\site-packages (from google-auth-oauthlib<1.1,>=0.5->tensorboard<2.13,>=2.12->tensorflow-intel==2.12.0->tensorflow) (1.3.1)\n",
      "Requirement already satisfied: pyasn1<0.5.0,>=0.4.6 in d:\\hard\\anaconda\\lib\\site-packages (from pyasn1-modules>=0.2.1->google-auth<3,>=1.6.3->tensorboard<2.13,>=2.12->tensorflow-intel==2.12.0->tensorflow) (0.4.8)\n",
      "Requirement already satisfied: charset-normalizer~=2.0.0 in d:\\hard\\anaconda\\lib\\site-packages (from requests<3,>=2.21.0->tensorboard<2.13,>=2.12->tensorflow-intel==2.12.0->tensorflow) (2.0.4)\n",
      "Requirement already satisfied: certifi>=2017.4.17 in d:\\hard\\anaconda\\lib\\site-packages (from requests<3,>=2.21.0->tensorboard<2.13,>=2.12->tensorflow-intel==2.12.0->tensorflow) (2021.10.8)\n",
      "Requirement already satisfied: idna<4,>=2.5 in d:\\hard\\anaconda\\lib\\site-packages (from requests<3,>=2.21.0->tensorboard<2.13,>=2.12->tensorflow-intel==2.12.0->tensorflow) (3.3)\n",
      "Requirement already satisfied: oauthlib>=3.0.0 in d:\\hard\\anaconda\\lib\\site-packages (from requests-oauthlib>=0.7.0->google-auth-oauthlib<1.1,>=0.5->tensorboard<2.13,>=2.12->tensorflow-intel==2.12.0->tensorflow) (3.2.2)\n",
      "Requirement already satisfied: pyparsing!=3.0.5,>=2.0.2 in d:\\hard\\anaconda\\lib\\site-packages (from packaging->tensorflow-intel==2.12.0->tensorflow) (3.0.4)\n",
      "Looking in indexes: https://pypi.tuna.tsinghua.edu.cn/simple\n"
     ]
    },
    {
     "name": "stderr",
     "output_type": "stream",
     "text": [
      "ERROR: Exception:\n",
      "Traceback (most recent call last):\n",
      "  File \"D:\\hard\\anaconda\\lib\\site-packages\\pip\\_internal\\cli\\base_command.py\", line 173, in _main\n",
      "    status = self.run(options, args)\n",
      "  File \"D:\\hard\\anaconda\\lib\\site-packages\\pip\\_internal\\cli\\req_command.py\", line 203, in wrapper\n",
      "    return func(self, options, args)\n",
      "  File \"D:\\hard\\anaconda\\lib\\site-packages\\pip\\_internal\\commands\\install.py\", line 315, in run\n",
      "    requirement_set = resolver.resolve(\n",
      "  File \"D:\\hard\\anaconda\\lib\\site-packages\\pip\\_internal\\resolution\\resolvelib\\resolver.py\", line 94, in resolve\n",
      "    result = self._result = resolver.resolve(\n",
      "  File \"D:\\hard\\anaconda\\lib\\site-packages\\pip\\_vendor\\resolvelib\\resolvers.py\", line 472, in resolve\n",
      "    state = resolution.resolve(requirements, max_rounds=max_rounds)\n",
      "  File \"D:\\hard\\anaconda\\lib\\site-packages\\pip\\_vendor\\resolvelib\\resolvers.py\", line 341, in resolve\n",
      "    self._add_to_criteria(self.state.criteria, r, parent=None)\n",
      "  File \"D:\\hard\\anaconda\\lib\\site-packages\\pip\\_vendor\\resolvelib\\resolvers.py\", line 172, in _add_to_criteria\n",
      "    if not criterion.candidates:\n",
      "  File \"D:\\hard\\anaconda\\lib\\site-packages\\pip\\_vendor\\resolvelib\\structs.py\", line 151, in __bool__\n",
      "    return bool(self._sequence)\n",
      "  File \"D:\\hard\\anaconda\\lib\\site-packages\\pip\\_internal\\resolution\\resolvelib\\found_candidates.py\", line 140, in __bool__\n",
      "    return any(self)\n",
      "  File \"D:\\hard\\anaconda\\lib\\site-packages\\pip\\_internal\\resolution\\resolvelib\\found_candidates.py\", line 128, in <genexpr>\n",
      "    return (c for c in iterator if id(c) not in self._incompatible_ids)\n",
      "  File \"D:\\hard\\anaconda\\lib\\site-packages\\pip\\_internal\\resolution\\resolvelib\\found_candidates.py\", line 29, in _iter_built\n",
      "    for version, func in infos:\n",
      "  File \"D:\\hard\\anaconda\\lib\\site-packages\\pip\\_internal\\resolution\\resolvelib\\factory.py\", line 272, in iter_index_candidate_infos\n",
      "    result = self._finder.find_best_candidate(\n",
      "  File \"D:\\hard\\anaconda\\lib\\site-packages\\pip\\_internal\\index\\package_finder.py\", line 851, in find_best_candidate\n",
      "    candidates = self.find_all_candidates(project_name)\n",
      "  File \"D:\\hard\\anaconda\\lib\\site-packages\\pip\\_internal\\index\\package_finder.py\", line 798, in find_all_candidates\n",
      "    page_candidates = list(page_candidates_it)\n",
      "  File \"D:\\hard\\anaconda\\lib\\site-packages\\pip\\_internal\\index\\sources.py\", line 134, in page_candidates\n",
      "    yield from self._candidates_from_page(self._link)\n",
      "  File \"D:\\hard\\anaconda\\lib\\site-packages\\pip\\_internal\\index\\package_finder.py\", line 758, in process_project_url\n",
      "    html_page = self._link_collector.fetch_page(project_url)\n",
      "  File \"D:\\hard\\anaconda\\lib\\site-packages\\pip\\_internal\\index\\collector.py\", line 490, in fetch_page\n",
      "    return _get_html_page(location, session=self.session)\n",
      "  File \"D:\\hard\\anaconda\\lib\\site-packages\\pip\\_internal\\index\\collector.py\", line 400, in _get_html_page\n",
      "    resp = _get_html_response(url, session=session)\n",
      "  File \"D:\\hard\\anaconda\\lib\\site-packages\\pip\\_internal\\index\\collector.py\", line 115, in _get_html_response\n",
      "    resp = session.get(\n",
      "  File \"D:\\hard\\anaconda\\lib\\site-packages\\pip\\_vendor\\requests\\sessions.py\", line 555, in get\n",
      "    return self.request('GET', url, **kwargs)\n",
      "  File \"D:\\hard\\anaconda\\lib\\site-packages\\pip\\_internal\\network\\session.py\", line 454, in request\n",
      "    return super().request(method, url, *args, **kwargs)\n",
      "  File \"D:\\hard\\anaconda\\lib\\site-packages\\pip\\_vendor\\requests\\sessions.py\", line 542, in request\n",
      "    resp = self.send(prep, **send_kwargs)\n",
      "  File \"D:\\hard\\anaconda\\lib\\site-packages\\pip\\_vendor\\requests\\sessions.py\", line 655, in send\n",
      "    r = adapter.send(request, **kwargs)\n",
      "  File \"D:\\hard\\anaconda\\lib\\site-packages\\pip\\_vendor\\cachecontrol\\adapter.py\", line 53, in send\n",
      "    resp = super(CacheControlAdapter, self).send(request, **kw)\n",
      "  File \"D:\\hard\\anaconda\\lib\\site-packages\\pip\\_vendor\\requests\\adapters.py\", line 439, in send\n",
      "    resp = conn.urlopen(\n",
      "  File \"D:\\hard\\anaconda\\lib\\site-packages\\pip\\_vendor\\urllib3\\connectionpool.py\", line 696, in urlopen\n",
      "    self._prepare_proxy(conn)\n",
      "  File \"D:\\hard\\anaconda\\lib\\site-packages\\pip\\_vendor\\urllib3\\connectionpool.py\", line 964, in _prepare_proxy\n",
      "    conn.connect()\n",
      "  File \"D:\\hard\\anaconda\\lib\\site-packages\\pip\\_vendor\\urllib3\\connection.py\", line 359, in connect\n",
      "    conn = self._connect_tls_proxy(hostname, conn)\n",
      "  File \"D:\\hard\\anaconda\\lib\\site-packages\\pip\\_vendor\\urllib3\\connection.py\", line 500, in _connect_tls_proxy\n",
      "    return ssl_wrap_socket(\n",
      "  File \"D:\\hard\\anaconda\\lib\\site-packages\\pip\\_vendor\\urllib3\\util\\ssl_.py\", line 453, in ssl_wrap_socket\n",
      "    ssl_sock = _ssl_wrap_socket_impl(sock, context, tls_in_tls)\n",
      "  File \"D:\\hard\\anaconda\\lib\\site-packages\\pip\\_vendor\\urllib3\\util\\ssl_.py\", line 495, in _ssl_wrap_socket_impl\n",
      "    return ssl_context.wrap_socket(sock)\n",
      "  File \"D:\\hard\\anaconda\\lib\\ssl.py\", line 500, in wrap_socket\n",
      "    return self.sslsocket_class._create(\n",
      "  File \"D:\\hard\\anaconda\\lib\\ssl.py\", line 997, in _create\n",
      "    raise ValueError(\"check_hostname requires server_hostname\")\n",
      "ValueError: check_hostname requires server_hostname\n"
     ]
    }
   ],
   "source": [
    "# ==================================================================================================\n",
    "# Yufei Li\n",
    "# Princeton University\n",
    "# yl5385@princeton.edu\n",
    "\n",
    "# Feburay 2023\n",
    "\n",
    "# Note:In this demo, the neural network is synthesized using the TensorFlow (verion: 2.11.0) framework. \n",
    "# Please install TensorFlow according to the official guidance, then import TensorFlow and other dependent modules.\n",
    "# ==================================================================================================\n",
    "\n",
    "!pip install pandas numpy matplotlib\n",
    "!pip install tensorflow\n",
    "!pip install optuna"
   ]
  },
  {
   "cell_type": "code",
   "execution_count": 2,
   "metadata": {
    "colab": {
     "base_uri": "https://localhost:8080/"
    },
    "id": "ugbgmewAO313",
    "outputId": "d3ee69ac-b8d9-4046-a6a2-c272c8172bc8",
    "scrolled": true,
    "ExecuteTime": {
     "end_time": "2023-06-19T09:07:39.494938500Z",
     "start_time": "2023-06-19T09:07:35.908468300Z"
    }
   },
   "outputs": [
    {
     "name": "stdout",
     "output_type": "stream",
     "text": [
      "0    float64\n",
      "1    float64\n",
      "2    float64\n",
      "3    float64\n",
      "dtype: object\n",
      "0    float64\n",
      "1    float64\n",
      "2    float64\n",
      "3    float64\n",
      "4    float64\n",
      "5    float64\n",
      "6    float64\n",
      "7    float64\n",
      "dtype: object\n",
      "[[  1.           0.9         -0.8         -0.4       ]\n",
      " [  1.31578947   0.9         -0.8         -0.4       ]\n",
      " [  1.75438596   0.9         -0.8         -0.4       ]\n",
      " ...\n",
      " [116.66666667   1.1          1.           0.6       ]\n",
      " [150.           1.1          1.           0.6       ]\n",
      " [200.           1.1          1.           0.6       ]]\n",
      "[[ 5.31458012e-05  2.29059616e-03 -3.24377888e-02 ... -3.09055016e-07\n",
      "   6.48620564e-02 -3.33011736e-04]\n",
      " [ 9.19777914e-05  3.01278965e-03 -3.29274705e-02 ... -7.03498158e-07\n",
      "   6.58173966e-02 -7.58000403e-04]\n",
      " [ 1.63406069e-04  4.01422579e-03 -3.37875330e-02 ... -1.66520633e-06\n",
      "   6.74621041e-02 -1.79157180e-03]\n",
      " ...\n",
      " [ 8.83554162e-02  2.91640801e-02  8.41353765e-03 ... -6.11382404e-03\n",
      "   8.65013151e-02  4.29239326e-02]\n",
      " [ 9.28972074e-02  2.24226852e-02  1.01270630e-02 ... -4.60404868e-03\n",
      "   9.25030921e-02  3.34749310e-02]\n",
      " [ 9.66328925e-02  1.52822789e-02  1.14967623e-02 ... -2.66991649e-03\n",
      "   9.72994116e-02  2.37311899e-02]]\n"
     ]
    }
   ],
   "source": [
    "import tensorflow as tf\n",
    "\n",
    "import matplotlib.pyplot as plt\n",
    "import numpy as np\n",
    "import pandas as pd\n",
    "import random\n",
    "import copy\n",
    "import csv\n",
    "import math\n",
    "import cmath\n",
    "import time\n",
    "\n",
    "import optuna\n",
    "\n",
    "inFilename = \"Input_Yo20op272_ana.csv\"\n",
    "outFilename = \"Output_Yo20op272_ana.csv\"\n",
    "\n",
    "Input = pd.read_csv(inFilename,header=None)\n",
    "Output = pd.read_csv(outFilename,header=None)\n",
    "\n",
    "print(Input.dtypes)\n",
    "print(Output.dtypes)\n",
    "\n",
    "inputs = []\n",
    "outputs = []\n",
    "\n",
    "inputs = np.array(Input)\n",
    "outputs = np.array(Output)\n",
    "print(inputs)\n",
    "print(outputs)"
   ]
  },
  {
   "cell_type": "code",
   "execution_count": 3,
   "metadata": {
    "colab": {
     "base_uri": "https://localhost:8080/"
    },
    "id": "Jzhcz0jETg-j",
    "outputId": "6e1e0b75-20e5-4b31-949a-1022b36d4b07",
    "ExecuteTime": {
     "end_time": "2023-06-19T09:07:41.616563700Z",
     "start_time": "2023-06-19T09:07:41.606482600Z"
    }
   },
   "outputs": [
    {
     "name": "stdout",
     "output_type": "stream",
     "text": [
      "Total Number of Dataset is: 5440\n",
      "[   0    1    2 ... 5437 5438 5439]\n",
      "[[  1.           0.9         -0.8         -0.4       ]\n",
      " [  1.31578947   0.9         -0.8         -0.4       ]\n",
      " [  1.75438596   0.9         -0.8         -0.4       ]\n",
      " ...\n",
      " [116.66666667   1.1          1.           0.6       ]\n",
      " [150.           1.1          1.           0.6       ]\n",
      " [200.           1.1          1.           0.6       ]]\n",
      "[ 689 2176 5047 ... 2937 2092 5102]\n",
      "[[ 12.5          0.9          0.           0.2       ]\n",
      " [ 87.5          1.          -0.2          0.6       ]\n",
      " [  6.97674419   1.1          0.6          0.4       ]\n",
      " ...\n",
      " [116.66666667   1.           0.6         -0.2       ]\n",
      " [ 28.57142857   1.          -0.2         -0.2       ]\n",
      " [  1.75438596   1.1          0.6          1.        ]]\n",
      "[[ 7.70282837e-03  2.64698365e-02  3.92927899e-03 ... -5.16123709e-04\n",
      "  -1.32699782e-02  2.40342759e-02]\n",
      " [ 8.08593968e-02  3.70515446e-02  5.82464384e-03 ... -7.37553062e-03\n",
      "   7.68197520e-02  4.49022591e-02]\n",
      " [ 2.52653115e-03  1.55912991e-02  2.23331068e-02 ... -9.99046098e-05\n",
      "  -4.36216899e-02  2.09785853e-02]\n",
      " ...\n",
      " [ 8.83554162e-02  2.91640801e-02  8.78245410e-03 ... -6.11382404e-03\n",
      "   8.66426382e-02  4.03540600e-02]\n",
      " [ 3.06321921e-02  4.55385987e-02 -3.33775864e-03 ... -3.51234236e-03\n",
      "   1.37860544e-02  4.91814501e-02]\n",
      " [ 1.63406069e-04  4.01422579e-03  5.58990962e-02 ... -1.66520633e-06\n",
      "  -3.36317316e-02  4.11704142e-04]]\n",
      "Total Number of training Dataset is: 3807\n",
      "Dataset randomization and separation complete!\n"
     ]
    }
   ],
   "source": [
    "# Randomize the order of the inputs, so they can be evenly distributed for training, testing, and validation\n",
    "\n",
    "num_inputs = len(inputs)\n",
    "print(\"Total Number of Dataset is:\",num_inputs)\n",
    "randomize = np.arange(num_inputs)\n",
    "print(randomize)\n",
    "\n",
    "inputs_origin = copy.deepcopy(inputs[randomize])\n",
    "outputs_origin = copy.deepcopy(outputs[randomize])\n",
    "print(inputs_origin)\n",
    "\n",
    "random.Random(5).shuffle(randomize)\n",
    "print(randomize)\n",
    "# Swap the consecutive indexes (0, 1, 2, etc) with the randomized indexes\n",
    "inputs_real = copy.deepcopy(inputs_origin[randomize])\n",
    "outputs_real = copy.deepcopy(outputs_origin[randomize])\n",
    "print(inputs_real)\n",
    "print(outputs_real)\n",
    "\n",
    "# Split the recordings (group of samples) into two sets: training and testing\n",
    "TRAIN_SPLIT = int(0.7 * num_inputs)\n",
    "inputs_train, inputs_test = np.split(inputs_real, [TRAIN_SPLIT])\n",
    "outputs_train, outputs_test = np.split(outputs_real, [TRAIN_SPLIT])\n",
    "\n",
    "num_inputs_train = len(inputs_train)\n",
    "print(\"Total Number of training Dataset is:\",num_inputs_train)\n",
    "print(\"Dataset randomization and separation complete!\")"
   ]
  },
  {
   "cell_type": "code",
   "execution_count": 4,
   "metadata": {
    "colab": {
     "base_uri": "https://localhost:8080/"
    },
    "id": "29MhrBmsO4xm",
    "outputId": "3befb570-ed17-4c3b-8d58-245e0066289c",
    "ExecuteTime": {
     "end_time": "2023-06-19T09:07:46.761410800Z",
     "start_time": "2023-06-19T09:07:46.753337Z"
    }
   },
   "outputs": [
    {
     "name": "stdout",
     "output_type": "stream",
     "text": [
      "Optimization object construction complete!\n"
     ]
    }
   ],
   "source": [
    "EPOCHS = 500\n",
    "\n",
    "def objective(trial):\n",
    "    #Clear clutter from previous tf.keras session graphs.\n",
    "    #tf.keras.backend.clear_session()\n",
    "    \n",
    "    #Define normalization layer\n",
    "    Normlayer1=tf.keras.layers.Normalization()\n",
    "    Normlayer1.adapt(inputs_real)\n",
    "    \n",
    "    #Model construction\n",
    "    #Optimize the numbers of layers and their units.\n",
    "    n_layers = trial.suggest_int(\"n_layers\", 2, 6)\n",
    "    model = tf.keras.Sequential()    \n",
    "    model.add(Normlayer1)\n",
    "    for i in range(n_layers):\n",
    "        neurons_hidden = trial.suggest_int(\"n_units_l{}\".format(i), 32, 128, log=True)\n",
    "        model.add(tf.keras.layers.Dense(neurons_hidden, activation=\"sigmoid\"))\n",
    "    model.add(tf.keras.layers.Dense(8))\n",
    "\n",
    "    #Defining learning rate schedule\n",
    "    LR_INIT = trial.suggest_float(\"lr_init\", 1e-3, 5e-1, log=True)\n",
    "    DECAY_EPOCHS = trial.suggest_int(\"decay_epochs\", 10, 200, log=True)\n",
    "    DECAY_RATE = trial.suggest_float(\"decay_rate\", 0.4, 0.9, log=True)\n",
    "    BATCH_SIZE = trial.suggest_categorical(\"batch_size\", [16, 32, 64, 128, 256, 512, 1024])\n",
    "\n",
    "    lr_schedule = tf.keras.optimizers.schedules.ExponentialDecay(\n",
    "    LR_INIT,\n",
    "    decay_steps=math.ceil(num_inputs_train/BATCH_SIZE)*DECAY_EPOCHS,\n",
    "    decay_rate=DECAY_RATE,\n",
    "    staircase=True)\n",
    "    \n",
    "    #Compile model\n",
    "    opt = tf.keras.optimizers.Adam(learning_rate=lr_schedule)\n",
    "    model.compile(optimizer=opt, loss='mse', metrics=['mse'])\n",
    "    \n",
    "    history = model.fit(inputs_train, outputs_train, epochs=EPOCHS, batch_size=BATCH_SIZE, validation_data=(inputs_test, outputs_test), verbose=0)\n",
    "\n",
    "    # Evaluate the model accuracy on the validation set.\n",
    "    score = model.evaluate(inputs_test, outputs_test, verbose=0)\n",
    "    return score[1]\n",
    "print(\"Optimization object construction complete!\")"
   ]
  },
  {
   "cell_type": "code",
   "execution_count": 5,
   "metadata": {
    "colab": {
     "base_uri": "https://localhost:8080/"
    },
    "id": "nrebGnmp6tnl",
    "outputId": "b3ac9602-7151-4d5c-9b3b-7c737515e609",
    "scrolled": true,
    "ExecuteTime": {
     "end_time": "2023-06-19T11:15:55.816928Z",
     "start_time": "2023-06-19T09:07:55.259443300Z"
    }
   },
   "outputs": [
    {
     "name": "stderr",
     "output_type": "stream",
     "text": [
      "[I 2023-06-19 17:07:55,259] A new study created in memory with name: no-name-8d50cc9f-ccfc-4f3a-8522-6df0a405fbb2\n",
      "[I 2023-06-19 17:08:18,589] Trial 0 finished with value: 0.000657229742500931 and parameters: {'n_layers': 4, 'n_units_l0': 47, 'n_units_l1': 83, 'n_units_l2': 59, 'n_units_l3': 58, 'lr_init': 0.26742894488188607, 'decay_epochs': 34, 'decay_rate': 0.7232087989932243, 'batch_size': 128}. Best is trial 0 with value: 0.000657229742500931.\n",
      "[I 2023-06-19 17:08:40,531] Trial 1 finished with value: 3.9701561036054045e-05 and parameters: {'n_layers': 2, 'n_units_l0': 78, 'n_units_l1': 63, 'lr_init': 0.0018536847107245322, 'decay_epochs': 24, 'decay_rate': 0.80542525648899, 'batch_size': 128}. Best is trial 1 with value: 3.9701561036054045e-05.\n",
      "[I 2023-06-19 17:10:20,763] Trial 2 finished with value: 2.647438712699568e-08 and parameters: {'n_layers': 4, 'n_units_l0': 122, 'n_units_l1': 102, 'n_units_l2': 45, 'n_units_l3': 48, 'lr_init': 0.008607561000278378, 'decay_epochs': 38, 'decay_rate': 0.5626761128573067, 'batch_size': 16}. Best is trial 2 with value: 2.647438712699568e-08.\n",
      "[I 2023-06-19 17:10:33,887] Trial 3 finished with value: 0.0006492502288892865 and parameters: {'n_layers': 2, 'n_units_l0': 40, 'n_units_l1': 36, 'lr_init': 0.22023527052543468, 'decay_epochs': 10, 'decay_rate': 0.6144685010779485, 'batch_size': 512}. Best is trial 2 with value: 2.647438712699568e-08.\n",
      "[I 2023-06-19 17:10:52,037] Trial 4 finished with value: 0.00012794986832886934 and parameters: {'n_layers': 3, 'n_units_l0': 83, 'n_units_l1': 40, 'n_units_l2': 66, 'lr_init': 0.00595478588915459, 'decay_epochs': 14, 'decay_rate': 0.5974077441086739, 'batch_size': 256}. Best is trial 2 with value: 2.647438712699568e-08.\n",
      "[I 2023-06-19 17:11:14,488] Trial 5 finished with value: 0.0006526954821310937 and parameters: {'n_layers': 2, 'n_units_l0': 112, 'n_units_l1': 57, 'lr_init': 0.4824858035259661, 'decay_epochs': 162, 'decay_rate': 0.4181103462276101, 'batch_size': 128}. Best is trial 2 with value: 2.647438712699568e-08.\n",
      "[I 2023-06-19 17:11:35,185] Trial 6 finished with value: 1.5648905900889076e-05 and parameters: {'n_layers': 4, 'n_units_l0': 81, 'n_units_l1': 50, 'n_units_l2': 73, 'n_units_l3': 70, 'lr_init': 0.0034333255731130545, 'decay_epochs': 45, 'decay_rate': 0.7520878342985574, 'batch_size': 256}. Best is trial 2 with value: 2.647438712699568e-08.\n",
      "[I 2023-06-19 17:13:28,240] Trial 7 finished with value: 6.082049708311388e-08 and parameters: {'n_layers': 6, 'n_units_l0': 63, 'n_units_l1': 61, 'n_units_l2': 45, 'n_units_l3': 35, 'n_units_l4': 47, 'n_units_l5': 62, 'lr_init': 0.002642470360098566, 'decay_epochs': 73, 'decay_rate': 0.6293518140547274, 'batch_size': 16}. Best is trial 2 with value: 2.647438712699568e-08.\n",
      "[I 2023-06-19 17:14:07,588] Trial 8 finished with value: 0.00974734965711832 and parameters: {'n_layers': 5, 'n_units_l0': 80, 'n_units_l1': 53, 'n_units_l2': 53, 'n_units_l3': 82, 'n_units_l4': 64, 'lr_init': 0.3343468521614448, 'decay_epochs': 136, 'decay_rate': 0.7749246144699424, 'batch_size': 64}. Best is trial 2 with value: 2.647438712699568e-08.\n",
      "[I 2023-06-19 17:14:22,630] Trial 9 finished with value: 0.0006497831200249493 and parameters: {'n_layers': 2, 'n_units_l0': 89, 'n_units_l1': 58, 'lr_init': 0.2883164944901883, 'decay_epochs': 57, 'decay_rate': 0.48647197823467364, 'batch_size': 512}. Best is trial 2 with value: 2.647438712699568e-08.\n",
      "[I 2023-06-19 17:16:21,530] Trial 10 finished with value: 2.9175525995128737e-08 and parameters: {'n_layers': 5, 'n_units_l0': 122, 'n_units_l1': 127, 'n_units_l2': 32, 'n_units_l3': 128, 'n_units_l4': 125, 'lr_init': 0.016589753860775745, 'decay_epochs': 23, 'decay_rate': 0.8994032993175203, 'batch_size': 16}. Best is trial 2 with value: 2.647438712699568e-08.\n",
      "[I 2023-06-19 17:18:40,093] Trial 11 finished with value: 2.632875073516061e-08 and parameters: {'n_layers': 5, 'n_units_l0': 128, 'n_units_l1': 126, 'n_units_l2': 33, 'n_units_l3': 128, 'n_units_l4': 128, 'lr_init': 0.01542709487381776, 'decay_epochs': 22, 'decay_rate': 0.8959397892592809, 'batch_size': 16}. Best is trial 11 with value: 2.632875073516061e-08.\n",
      "[I 2023-06-19 17:19:06,165] Trial 12 finished with value: 0.000647997367195785 and parameters: {'n_layers': 5, 'n_units_l0': 121, 'n_units_l1': 128, 'n_units_l2': 33, 'n_units_l3': 119, 'n_units_l4': 124, 'lr_init': 0.014017745403639746, 'decay_epochs': 24, 'decay_rate': 0.5388957103405492, 'batch_size': 1024}. Best is trial 11 with value: 2.632875073516061e-08.\n",
      "[I 2023-06-19 17:20:33,992] Trial 13 finished with value: 0.0006497793947346509 and parameters: {'n_layers': 6, 'n_units_l0': 127, 'n_units_l1': 101, 'n_units_l2': 103, 'n_units_l3': 47, 'n_units_l4': 81, 'n_units_l5': 125, 'lr_init': 0.035699554694968036, 'decay_epochs': 35, 'decay_rate': 0.6743263796063834, 'batch_size': 32}. Best is trial 11 with value: 2.632875073516061e-08.\n",
      "[I 2023-06-19 17:22:17,389] Trial 14 finished with value: 5.686593453901878e-07 and parameters: {'n_layers': 3, 'n_units_l0': 102, 'n_units_l1': 83, 'n_units_l2': 41, 'lr_init': 0.0076021005622679, 'decay_epochs': 86, 'decay_rate': 0.8849317311551881, 'batch_size': 16}. Best is trial 11 with value: 2.632875073516061e-08.\n",
      "[I 2023-06-19 17:24:06,332] Trial 15 finished with value: 0.000649654830340296 and parameters: {'n_layers': 4, 'n_units_l0': 102, 'n_units_l1': 103, 'n_units_l2': 40, 'n_units_l3': 90, 'lr_init': 0.058236775194439976, 'decay_epochs': 16, 'decay_rate': 0.5454620241315772, 'batch_size': 16}. Best is trial 11 with value: 2.632875073516061e-08.\n",
      "[I 2023-06-19 17:26:02,201] Trial 16 finished with value: 1.8623224207203748e-07 and parameters: {'n_layers': 5, 'n_units_l0': 128, 'n_units_l1': 79, 'n_units_l2': 45, 'n_units_l3': 50, 'n_units_l4': 36, 'lr_init': 0.001046148660276786, 'decay_epochs': 40, 'decay_rate': 0.669892209281411, 'batch_size': 16}. Best is trial 11 with value: 2.632875073516061e-08.\n",
      "[I 2023-06-19 17:26:16,396] Trial 17 finished with value: 8.833866741042584e-05 and parameters: {'n_layers': 3, 'n_units_l0': 101, 'n_units_l1': 107, 'n_units_l2': 33, 'lr_init': 0.007804835760499387, 'decay_epochs': 27, 'decay_rate': 0.8197925678092438, 'batch_size': 1024}. Best is trial 11 with value: 2.632875073516061e-08.\n",
      "[I 2023-06-19 17:27:04,283] Trial 18 finished with value: 6.677357333728651e-08 and parameters: {'n_layers': 6, 'n_units_l0': 64, 'n_units_l1': 71, 'n_units_l2': 51, 'n_units_l3': 98, 'n_units_l4': 91, 'n_units_l5': 32, 'lr_init': 0.028877578645873134, 'decay_epochs': 53, 'decay_rate': 0.7128666003663601, 'batch_size': 64}. Best is trial 11 with value: 2.632875073516061e-08.\n",
      "[I 2023-06-19 17:28:15,233] Trial 19 finished with value: 0.0006498231086879969 and parameters: {'n_layers': 5, 'n_units_l0': 103, 'n_units_l1': 94, 'n_units_l2': 39, 'n_units_l3': 72, 'n_units_l4': 95, 'lr_init': 0.07587236862851454, 'decay_epochs': 17, 'decay_rate': 0.8126367927897725, 'batch_size': 32}. Best is trial 11 with value: 2.632875073516061e-08.\n",
      "[I 2023-06-19 17:30:12,003] Trial 20 finished with value: 1.5383646356781355e-08 and parameters: {'n_layers': 4, 'n_units_l0': 93, 'n_units_l1': 115, 'n_units_l2': 37, 'n_units_l3': 103, 'lr_init': 0.01284116351113115, 'decay_epochs': 31, 'decay_rate': 0.684129761433613, 'batch_size': 16}. Best is trial 20 with value: 1.5383646356781355e-08.\n",
      "[I 2023-06-19 17:32:08,482] Trial 21 finished with value: 1.5112766149627532e-08 and parameters: {'n_layers': 4, 'n_units_l0': 113, 'n_units_l1': 115, 'n_units_l2': 36, 'n_units_l3': 102, 'lr_init': 0.012254095448430976, 'decay_epochs': 31, 'decay_rate': 0.7022749912843143, 'batch_size': 16}. Best is trial 21 with value: 1.5112766149627532e-08.\n",
      "[I 2023-06-19 17:33:56,386] Trial 22 finished with value: 1.2149677708350737e-08 and parameters: {'n_layers': 3, 'n_units_l0': 110, 'n_units_l1': 116, 'n_units_l2': 36, 'lr_init': 0.014731446039054007, 'decay_epochs': 29, 'decay_rate': 0.6698012553491229, 'batch_size': 16}. Best is trial 22 with value: 1.2149677708350737e-08.\n",
      "[I 2023-06-19 17:35:42,481] Trial 23 finished with value: 1.3275038845961262e-08 and parameters: {'n_layers': 3, 'n_units_l0': 92, 'n_units_l1': 115, 'n_units_l2': 37, 'lr_init': 0.02346166543270119, 'decay_epochs': 33, 'decay_rate': 0.6737829737725884, 'batch_size': 16}. Best is trial 22 with value: 1.2149677708350737e-08.\n",
      "[I 2023-06-19 17:37:24,571] Trial 24 finished with value: 1.3564112499864223e-08 and parameters: {'n_layers': 3, 'n_units_l0': 106, 'n_units_l1': 115, 'n_units_l2': 38, 'lr_init': 0.02360137208302408, 'decay_epochs': 32, 'decay_rate': 0.6508773199326175, 'batch_size': 16}. Best is trial 22 with value: 1.2149677708350737e-08.\n",
      "[I 2023-06-19 17:39:04,405] Trial 25 finished with value: 1.1296621416079233e-08 and parameters: {'n_layers': 3, 'n_units_l0': 94, 'n_units_l1': 90, 'n_units_l2': 38, 'lr_init': 0.026699198969709355, 'decay_epochs': 47, 'decay_rate': 0.6363262225105093, 'batch_size': 16}. Best is trial 25 with value: 1.1296621416079233e-08.\n",
      "[I 2023-06-19 17:40:44,546] Trial 26 finished with value: 2.1283680595729493e-08 and parameters: {'n_layers': 3, 'n_units_l0': 92, 'n_units_l1': 89, 'n_units_l2': 43, 'lr_init': 0.043077975633379215, 'decay_epochs': 47, 'decay_rate': 0.6486803716044086, 'batch_size': 16}. Best is trial 25 with value: 1.1296621416079233e-08.\n",
      "[I 2023-06-19 17:41:22,235] Trial 27 finished with value: 8.866071965485389e-08 and parameters: {'n_layers': 3, 'n_units_l0': 72, 'n_units_l1': 91, 'n_units_l2': 37, 'lr_init': 0.02487356374167852, 'decay_epochs': 62, 'decay_rate': 0.5950182825375196, 'batch_size': 64}. Best is trial 25 with value: 1.1296621416079233e-08.\n",
      "[I 2023-06-19 17:41:38,317] Trial 28 finished with value: 0.00016867142403498292 and parameters: {'n_layers': 3, 'n_units_l0': 90, 'n_units_l1': 72, 'n_units_l2': 50, 'lr_init': 0.0658908735266124, 'decay_epochs': 43, 'decay_rate': 0.7343269940323999, 'batch_size': 1024}. Best is trial 25 with value: 1.1296621416079233e-08.\n",
      "[I 2023-06-19 17:41:53,910] Trial 29 finished with value: 2.6377862013760023e-05 and parameters: {'n_layers': 2, 'n_units_l0': 53, 'n_units_l1': 92, 'lr_init': 0.034509187069473944, 'decay_epochs': 89, 'decay_rate': 0.7208494810162936, 'batch_size': 512}. Best is trial 25 with value: 1.1296621416079233e-08.\n",
      "[I 2023-06-19 17:42:52,801] Trial 30 finished with value: 0.0006561164627783 and parameters: {'n_layers': 3, 'n_units_l0': 113, 'n_units_l1': 79, 'n_units_l2': 36, 'lr_init': 0.0946856994014256, 'decay_epochs': 37, 'decay_rate': 0.6454958180895433, 'batch_size': 32}. Best is trial 25 with value: 1.1296621416079233e-08.\n",
      "[I 2023-06-19 17:44:35,589] Trial 31 finished with value: 1.4257230063208226e-08 and parameters: {'n_layers': 3, 'n_units_l0': 98, 'n_units_l1': 113, 'n_units_l2': 41, 'lr_init': 0.023155075550832425, 'decay_epochs': 30, 'decay_rate': 0.6670892069641867, 'batch_size': 16}. Best is trial 25 with value: 1.1296621416079233e-08.\n",
      "[I 2023-06-19 17:45:01,620] Trial 32 finished with value: 1.5934570001263637e-06 and parameters: {'n_layers': 3, 'n_units_l0': 111, 'n_units_l1': 113, 'n_units_l2': 37, 'lr_init': 0.02450858745610895, 'decay_epochs': 35, 'decay_rate': 0.6417336218642931, 'batch_size': 128}. Best is trial 25 with value: 1.1296621416079233e-08.\n",
      "[I 2023-06-19 17:46:37,893] Trial 33 finished with value: 2.657016864304751e-07 and parameters: {'n_layers': 2, 'n_units_l0': 86, 'n_units_l1': 101, 'lr_init': 0.01954190622821537, 'decay_epochs': 28, 'decay_rate': 0.6942838613972822, 'batch_size': 16}. Best is trial 25 with value: 1.1296621416079233e-08.\n",
      "[I 2023-06-19 17:48:18,030] Trial 34 finished with value: 2.0716228391393088e-05 and parameters: {'n_layers': 3, 'n_units_l0': 74, 'n_units_l1': 119, 'n_units_l2': 32, 'lr_init': 0.047675206918152344, 'decay_epochs': 49, 'decay_rate': 0.5775141073679282, 'batch_size': 16}. Best is trial 25 with value: 1.1296621416079233e-08.\n",
      "[I 2023-06-19 17:48:35,541] Trial 35 finished with value: 2.6495958081795834e-05 and parameters: {'n_layers': 2, 'n_units_l0': 93, 'n_units_l1': 105, 'lr_init': 0.010344902754027949, 'decay_epochs': 42, 'decay_rate': 0.6154303971264197, 'batch_size': 256}. Best is trial 25 with value: 1.1296621416079233e-08.\n",
      "[I 2023-06-19 17:50:31,318] Trial 36 finished with value: 4.511191420419891e-08 and parameters: {'n_layers': 3, 'n_units_l0': 107, 'n_units_l1': 98, 'n_units_l2': 47, 'lr_init': 0.021931739876917527, 'decay_epochs': 21, 'decay_rate': 0.6051597380370903, 'batch_size': 16}. Best is trial 25 with value: 1.1296621416079233e-08.\n",
      "[I 2023-06-19 17:50:57,659] Trial 37 finished with value: 1.8761774072117987e-06 and parameters: {'n_layers': 4, 'n_units_l0': 32, 'n_units_l1': 110, 'n_units_l2': 42, 'n_units_l3': 32, 'lr_init': 0.005617637990630231, 'decay_epochs': 38, 'decay_rate': 0.745241392272407, 'batch_size': 128}. Best is trial 25 with value: 1.1296621416079233e-08.\n",
      "[I 2023-06-19 17:52:41,565] Trial 38 finished with value: 5.77488492581324e-07 and parameters: {'n_layers': 2, 'n_units_l0': 84, 'n_units_l1': 121, 'lr_init': 0.017309178304752402, 'decay_epochs': 26, 'decay_rate': 0.6409355743416685, 'batch_size': 16}. Best is trial 25 with value: 1.1296621416079233e-08.\n",
      "[I 2023-06-19 17:53:05,026] Trial 39 finished with value: 0.0001227688480867073 and parameters: {'n_layers': 4, 'n_units_l0': 97, 'n_units_l1': 108, 'n_units_l2': 56, 'n_units_l3': 41, 'lr_init': 0.032999350890341395, 'decay_epochs': 32, 'decay_rate': 0.6957135149347611, 'batch_size': 256}. Best is trial 25 with value: 1.1296621416079233e-08.\n",
      "[I 2023-06-19 17:53:23,406] Trial 40 finished with value: 6.53653041808866e-05 and parameters: {'n_layers': 4, 'n_units_l0': 109, 'n_units_l1': 97, 'n_units_l2': 48, 'n_units_l3': 60, 'lr_init': 0.010543490311919021, 'decay_epochs': 20, 'decay_rate': 0.6228892277373416, 'batch_size': 512}. Best is trial 25 with value: 1.1296621416079233e-08.\n",
      "[I 2023-06-19 17:55:07,384] Trial 41 finished with value: 1.79228667462894e-08 and parameters: {'n_layers': 3, 'n_units_l0': 95, 'n_units_l1': 118, 'n_units_l2': 40, 'lr_init': 0.021139010728309166, 'decay_epochs': 30, 'decay_rate': 0.6698695436595216, 'batch_size': 16}. Best is trial 25 with value: 1.1296621416079233e-08.\n",
      "[I 2023-06-19 17:56:48,934] Trial 42 finished with value: 1.760002810158312e-08 and parameters: {'n_layers': 3, 'n_units_l0': 98, 'n_units_l1': 110, 'n_units_l2': 43, 'lr_init': 0.025476005806368045, 'decay_epochs': 27, 'decay_rate': 0.661866623566728, 'batch_size': 16}. Best is trial 25 with value: 1.1296621416079233e-08.\n",
      "[I 2023-06-19 17:58:29,374] Trial 43 finished with value: 1.010375338950098e-08 and parameters: {'n_layers': 3, 'n_units_l0': 79, 'n_units_l1': 121, 'n_units_l2': 35, 'lr_init': 0.017147473391381785, 'decay_epochs': 35, 'decay_rate': 0.6294928284862198, 'batch_size': 16}. Best is trial 43 with value: 1.010375338950098e-08.\n",
      "[I 2023-06-19 18:00:12,349] Trial 44 finished with value: 3.359793936397182e-07 and parameters: {'n_layers': 2, 'n_units_l0': 79, 'n_units_l1': 128, 'lr_init': 0.016257695210067636, 'decay_epochs': 41, 'decay_rate': 0.5949193610110232, 'batch_size': 16}. Best is trial 43 with value: 1.010375338950098e-08.\n",
      "[I 2023-06-19 18:02:03,432] Trial 45 finished with value: 4.9108354716054237e-08 and parameters: {'n_layers': 3, 'n_units_l0': 86, 'n_units_l1': 122, 'n_units_l2': 36, 'lr_init': 0.005599238254969812, 'decay_epochs': 36, 'decay_rate': 0.6243081719281947, 'batch_size': 16}. Best is trial 43 with value: 1.010375338950098e-08.\n",
      "[I 2023-06-19 18:03:51,762] Trial 46 finished with value: 5.408981351706643e-08 and parameters: {'n_layers': 3, 'n_units_l0': 117, 'n_units_l1': 104, 'n_units_l2': 35, 'lr_init': 0.04027564666102203, 'decay_epochs': 47, 'decay_rate': 0.7612875165857325, 'batch_size': 16}. Best is trial 43 with value: 1.010375338950098e-08.\n",
      "[I 2023-06-19 18:04:17,877] Trial 47 finished with value: 2.7978174330201e-05 and parameters: {'n_layers': 2, 'n_units_l0': 87, 'n_units_l1': 120, 'lr_init': 0.013564432185073173, 'decay_epochs': 25, 'decay_rate': 0.5719024759410772, 'batch_size': 128}. Best is trial 43 with value: 1.010375338950098e-08.\n",
      "[I 2023-06-19 18:04:56,375] Trial 48 finished with value: 1.6723771523174946e-07 and parameters: {'n_layers': 4, 'n_units_l0': 106, 'n_units_l1': 98, 'n_units_l2': 34, 'n_units_l3': 78, 'lr_init': 0.02987891556908201, 'decay_epochs': 33, 'decay_rate': 0.726970402690253, 'batch_size': 64}. Best is trial 43 with value: 1.010375338950098e-08.\n",
      "[I 2023-06-19 18:06:41,075] Trial 49 finished with value: 1.4992217245435313e-08 and parameters: {'n_layers': 3, 'n_units_l0': 119, 'n_units_l1': 128, 'n_units_l2': 38, 'lr_init': 0.018012991316422478, 'decay_epochs': 39, 'decay_rate': 0.6293976812050077, 'batch_size': 16}. Best is trial 43 with value: 1.010375338950098e-08.\n",
      "[I 2023-06-19 18:06:54,138] Trial 50 finished with value: 0.0001486694090999663 and parameters: {'n_layers': 3, 'n_units_l0': 82, 'n_units_l1': 87, 'n_units_l2': 34, 'lr_init': 0.010025166968699806, 'decay_epochs': 23, 'decay_rate': 0.6928214406269325, 'batch_size': 1024}. Best is trial 43 with value: 1.010375338950098e-08.\n",
      "[I 2023-06-19 18:08:32,666] Trial 51 finished with value: 1.9098640891002105e-08 and parameters: {'n_layers': 3, 'n_units_l0': 97, 'n_units_l1': 112, 'n_units_l2': 40, 'lr_init': 0.025832640594002577, 'decay_epochs': 33, 'decay_rate': 0.6726821289951528, 'batch_size': 16}. Best is trial 43 with value: 1.010375338950098e-08.\n",
      "[I 2023-06-19 18:10:17,933] Trial 52 finished with value: 2.413669797363127e-08 and parameters: {'n_layers': 3, 'n_units_l0': 104, 'n_units_l1': 107, 'n_units_l2': 32, 'lr_init': 0.013209158079371595, 'decay_epochs': 28, 'decay_rate': 0.653260309603516, 'batch_size': 16}. Best is trial 43 with value: 1.010375338950098e-08.\n",
      "[I 2023-06-19 18:12:06,193] Trial 53 finished with value: 1.2746734334712073e-08 and parameters: {'n_layers': 3, 'n_units_l0': 100, 'n_units_l1': 116, 'n_units_l2': 44, 'lr_init': 0.019633924735022824, 'decay_epochs': 30, 'decay_rate': 0.6601764788954203, 'batch_size': 16}. Best is trial 43 with value: 1.010375338950098e-08.\n",
      "[I 2023-06-19 18:13:44,836] Trial 54 finished with value: 3.6048649576514435e-07 and parameters: {'n_layers': 2, 'n_units_l0': 88, 'n_units_l1': 120, 'lr_init': 0.017925900985351073, 'decay_epochs': 24, 'decay_rate': 0.7114267491156325, 'batch_size': 16}. Best is trial 43 with value: 1.010375338950098e-08.\n",
      "[I 2023-06-19 18:14:43,502] Trial 55 finished with value: 2.335273663334192e-08 and parameters: {'n_layers': 3, 'n_units_l0': 105, 'n_units_l1': 103, 'n_units_l2': 38, 'lr_init': 0.031857212681200404, 'decay_epochs': 53, 'decay_rate': 0.6085924167730644, 'batch_size': 32}. Best is trial 43 with value: 1.010375338950098e-08.\n",
      "[I 2023-06-19 18:16:30,529] Trial 56 finished with value: 2.2624068151344545e-05 and parameters: {'n_layers': 4, 'n_units_l0': 91, 'n_units_l1': 123, 'n_units_l2': 44, 'n_units_l3': 64, 'lr_init': 0.047673814279401476, 'decay_epochs': 36, 'decay_rate': 0.6387296999718264, 'batch_size': 16}. Best is trial 43 with value: 1.010375338950098e-08.\n",
      "[I 2023-06-19 18:16:49,036] Trial 57 finished with value: 1.5918179997242987e-05 and parameters: {'n_layers': 3, 'n_units_l0': 115, 'n_units_l1': 116, 'n_units_l2': 35, 'lr_init': 0.007647632723132491, 'decay_epochs': 43, 'decay_rate': 0.676228473288774, 'batch_size': 256}. Best is trial 43 with value: 1.010375338950098e-08.\n",
      "[I 2023-06-19 18:17:05,099] Trial 58 finished with value: 5.591912122326903e-05 and parameters: {'n_layers': 4, 'n_units_l0': 100, 'n_units_l1': 95, 'n_units_l2': 39, 'n_units_l3': 39, 'lr_init': 0.015314642072432568, 'decay_epochs': 21, 'decay_rate': 0.6593085055587822, 'batch_size': 512}. Best is trial 43 with value: 1.010375338950098e-08.\n",
      "[I 2023-06-19 18:18:39,954] Trial 59 finished with value: 4.2470472294553474e-07 and parameters: {'n_layers': 2, 'n_units_l0': 120, 'n_units_l1': 100, 'lr_init': 0.019377066568983473, 'decay_epochs': 30, 'decay_rate': 0.5897295741950991, 'batch_size': 16}. Best is trial 43 with value: 1.010375338950098e-08.\n",
      "[I 2023-06-19 18:20:33,138] Trial 60 finished with value: 6.864539159323613e-08 and parameters: {'n_layers': 3, 'n_units_l0': 110, 'n_units_l1': 108, 'n_units_l2': 46, 'lr_init': 0.0387544079651302, 'decay_epochs': 19, 'decay_rate': 0.5562122647325053, 'batch_size': 16}. Best is trial 43 with value: 1.010375338950098e-08.\n",
      "[I 2023-06-19 18:22:28,164] Trial 61 finished with value: 1.7538328123123392e-08 and parameters: {'n_layers': 3, 'n_units_l0': 99, 'n_units_l1': 114, 'n_units_l2': 42, 'lr_init': 0.022566778007794015, 'decay_epochs': 28, 'decay_rate': 0.6879640391535743, 'batch_size': 16}. Best is trial 43 with value: 1.010375338950098e-08.\n",
      "[I 2023-06-19 18:24:17,699] Trial 62 finished with value: 1.5575697176473113e-08 and parameters: {'n_layers': 3, 'n_units_l0': 95, 'n_units_l1': 114, 'n_units_l2': 40, 'lr_init': 0.029835545216481206, 'decay_epochs': 25, 'decay_rate': 0.6570627952475614, 'batch_size': 16}. Best is trial 43 with value: 1.010375338950098e-08.\n",
      "[I 2023-06-19 18:26:01,640] Trial 63 finished with value: 1.1015501399924688e-08 and parameters: {'n_layers': 3, 'n_units_l0': 90, 'n_units_l1': 123, 'n_units_l2': 35, 'lr_init': 0.0210995437428018, 'decay_epochs': 33, 'decay_rate': 0.6316848988431055, 'batch_size': 16}. Best is trial 43 with value: 1.010375338950098e-08.\n",
      "[I 2023-06-19 18:27:40,634] Trial 64 finished with value: 1.6248481671254922e-08 and parameters: {'n_layers': 3, 'n_units_l0': 90, 'n_units_l1': 125, 'n_units_l2': 34, 'lr_init': 0.014592291851565959, 'decay_epochs': 34, 'decay_rate': 0.618702754101529, 'batch_size': 16}. Best is trial 43 with value: 1.010375338950098e-08.\n",
      "[I 2023-06-19 18:28:14,885] Trial 65 finished with value: 2.696631042908848e-07 and parameters: {'n_layers': 3, 'n_units_l0': 82, 'n_units_l1': 128, 'n_units_l2': 32, 'lr_init': 0.01131481898422952, 'decay_epochs': 45, 'decay_rate': 0.6328561483365922, 'batch_size': 64}. Best is trial 43 with value: 1.010375338950098e-08.\n",
      "[I 2023-06-19 18:29:52,083] Trial 66 finished with value: 2.23687575129361e-08 and parameters: {'n_layers': 4, 'n_units_l0': 77, 'n_units_l1': 118, 'n_units_l2': 35, 'n_units_l3': 54, 'lr_init': 0.02757221811096294, 'decay_epochs': 41, 'decay_rate': 0.7075202509771162, 'batch_size': 16}. Best is trial 43 with value: 1.010375338950098e-08.\n",
      "[I 2023-06-19 18:30:04,782] Trial 67 finished with value: 0.00010172074689762667 and parameters: {'n_layers': 3, 'n_units_l0': 103, 'n_units_l1': 105, 'n_units_l2': 38, 'lr_init': 0.00908992920357603, 'decay_epochs': 38, 'decay_rate': 0.6056241097434868, 'batch_size': 1024}. Best is trial 43 with value: 1.010375338950098e-08.\n",
      "[I 2023-06-19 18:31:40,027] Trial 68 finished with value: 1.107162006519502e-08 and parameters: {'n_layers': 3, 'n_units_l0': 92, 'n_units_l1': 111, 'n_units_l2': 37, 'lr_init': 0.019696152721897866, 'decay_epochs': 33, 'decay_rate': 0.6492660780481617, 'batch_size': 16}. Best is trial 43 with value: 1.010375338950098e-08.\n",
      "[I 2023-06-19 18:32:39,053] Trial 69 finished with value: 3.256507241644613e-08 and parameters: {'n_layers': 3, 'n_units_l0': 94, 'n_units_l1': 123, 'n_units_l2': 34, 'lr_init': 0.01165338126946974, 'decay_epochs': 35, 'decay_rate': 0.6834664451661776, 'batch_size': 32}. Best is trial 43 with value: 1.010375338950098e-08.\n",
      "[I 2023-06-19 18:34:21,285] Trial 70 finished with value: 1.6453462592380674e-08 and parameters: {'n_layers': 3, 'n_units_l0': 85, 'n_units_l1': 110, 'n_units_l2': 36, 'lr_init': 0.015780496818962663, 'decay_epochs': 29, 'decay_rate': 0.6395405557321998, 'batch_size': 16}. Best is trial 43 with value: 1.010375338950098e-08.\n",
      "[I 2023-06-19 18:36:02,630] Trial 71 finished with value: 1.7154132336827388e-08 and parameters: {'n_layers': 3, 'n_units_l0': 90, 'n_units_l1': 116, 'n_units_l2': 38, 'lr_init': 0.021765498686687684, 'decay_epochs': 32, 'decay_rate': 0.6510975214186067, 'batch_size': 16}. Best is trial 43 with value: 1.010375338950098e-08.\n",
      "[I 2023-06-19 18:37:45,716] Trial 72 finished with value: 1.3273310450756526e-08 and parameters: {'n_layers': 3, 'n_units_l0': 108, 'n_units_l1': 101, 'n_units_l2': 41, 'lr_init': 0.01951083707856962, 'decay_epochs': 27, 'decay_rate': 0.6243410908494619, 'batch_size': 16}. Best is trial 43 with value: 1.010375338950098e-08.\n",
      "[I 2023-06-19 18:39:26,317] Trial 73 finished with value: 2.0450128701554604e-08 and parameters: {'n_layers': 3, 'n_units_l0': 101, 'n_units_l1': 102, 'n_units_l2': 41, 'lr_init': 0.01909335848956529, 'decay_epochs': 26, 'decay_rate': 0.6174767170662873, 'batch_size': 16}. Best is trial 43 with value: 1.010375338950098e-08.\n",
      "[I 2023-06-19 18:41:06,824] Trial 74 finished with value: 2.379330510393629e-08 and parameters: {'n_layers': 3, 'n_units_l0': 110, 'n_units_l1': 94, 'n_units_l2': 45, 'lr_init': 0.013511612309179254, 'decay_epochs': 23, 'decay_rate': 0.6322855168400353, 'batch_size': 16}. Best is trial 43 with value: 1.010375338950098e-08.\n",
      "[I 2023-06-19 18:41:31,546] Trial 75 finished with value: 1.5849505871301517e-05 and parameters: {'n_layers': 2, 'n_units_l0': 124, 'n_units_l1': 109, 'lr_init': 0.037057730629108845, 'decay_epochs': 39, 'decay_rate': 0.5902036763817226, 'batch_size': 128}. Best is trial 43 with value: 1.010375338950098e-08.\n",
      "[I 2023-06-19 18:43:13,863] Trial 76 finished with value: 1.5723689017477227e-08 and parameters: {'n_layers': 4, 'n_units_l0': 95, 'n_units_l1': 123, 'n_units_l2': 33, 'n_units_l3': 66, 'lr_init': 0.020462871023100675, 'decay_epochs': 29, 'decay_rate': 0.6776074641796002, 'batch_size': 16}. Best is trial 43 with value: 1.010375338950098e-08.\n",
      "[I 2023-06-19 18:43:33,718] Trial 77 finished with value: 5.137891639606096e-05 and parameters: {'n_layers': 3, 'n_units_l0': 114, 'n_units_l1': 100, 'n_units_l2': 43, 'lr_init': 0.028148337510448953, 'decay_epochs': 26, 'decay_rate': 0.6660655088158122, 'batch_size': 512}. Best is trial 43 with value: 1.010375338950098e-08.\n",
      "[I 2023-06-19 18:45:16,740] Trial 78 finished with value: 1.9445138832452358e-08 and parameters: {'n_layers': 3, 'n_units_l0': 92, 'n_units_l1': 111, 'n_units_l2': 36, 'lr_init': 0.016349001561824377, 'decay_epochs': 31, 'decay_rate': 0.6096843387049461, 'batch_size': 16}. Best is trial 43 with value: 1.010375338950098e-08.\n",
      "[I 2023-06-19 18:47:02,385] Trial 79 finished with value: 1.2619693734450266e-08 and parameters: {'n_layers': 3, 'n_units_l0': 88, 'n_units_l1': 118, 'n_units_l2': 40, 'lr_init': 0.02463282531126497, 'decay_epochs': 35, 'decay_rate': 0.6985123353291791, 'batch_size': 16}. Best is trial 43 with value: 1.010375338950098e-08.\n",
      "[I 2023-06-19 18:47:21,844] Trial 80 finished with value: 2.1169920728425495e-05 and parameters: {'n_layers': 3, 'n_units_l0': 83, 'n_units_l1': 105, 'n_units_l2': 39, 'lr_init': 0.0333828365695658, 'decay_epochs': 35, 'decay_rate': 0.7020496999560994, 'batch_size': 256}. Best is trial 43 with value: 1.010375338950098e-08.\n",
      "[I 2023-06-19 18:49:04,270] Trial 81 finished with value: 1.1324746473917457e-08 and parameters: {'n_layers': 3, 'n_units_l0': 86, 'n_units_l1': 116, 'n_units_l2': 37, 'lr_init': 0.02398383056685958, 'decay_epochs': 33, 'decay_rate': 0.6488352774797888, 'batch_size': 16}. Best is trial 43 with value: 1.010375338950098e-08.\n",
      "[I 2023-06-19 18:50:48,053] Trial 82 finished with value: 9.775884990403938e-09 and parameters: {'n_layers': 3, 'n_units_l0': 89, 'n_units_l1': 118, 'n_units_l2': 41, 'lr_init': 0.019183512602232902, 'decay_epochs': 37, 'decay_rate': 0.6469110014641792, 'batch_size': 16}. Best is trial 82 with value: 9.775884990403938e-09.\n",
      "[I 2023-06-19 18:52:29,544] Trial 83 finished with value: 1.3126726372547637e-08 and parameters: {'n_layers': 3, 'n_units_l0': 86, 'n_units_l1': 119, 'n_units_l2': 37, 'lr_init': 0.025193394964773696, 'decay_epochs': 38, 'decay_rate': 0.6479776805276616, 'batch_size': 16}. Best is trial 82 with value: 9.775884990403938e-09.\n",
      "[I 2023-06-19 18:54:10,481] Trial 84 finished with value: 1.02683141989246e-08 and parameters: {'n_layers': 3, 'n_units_l0': 80, 'n_units_l1': 123, 'n_units_l2': 44, 'lr_init': 0.01442450865877314, 'decay_epochs': 42, 'decay_rate': 0.686188860110197, 'batch_size': 16}. Best is trial 82 with value: 9.775884990403938e-09.\n",
      "[I 2023-06-19 18:55:58,228] Trial 85 finished with value: 9.139726309115304e-09 and parameters: {'n_layers': 3, 'n_units_l0': 79, 'n_units_l1': 124, 'n_units_l2': 39, 'lr_init': 0.012763226950375453, 'decay_epochs': 45, 'decay_rate': 0.7181739385878039, 'batch_size': 16}. Best is trial 85 with value: 9.139726309115304e-09.\n",
      "[I 2023-06-19 18:57:44,016] Trial 86 finished with value: 1.2068584354096856e-08 and parameters: {'n_layers': 3, 'n_units_l0': 78, 'n_units_l1': 124, 'n_units_l2': 33, 'lr_init': 0.012564128257217259, 'decay_epochs': 49, 'decay_rate': 0.744369391376339, 'batch_size': 16}. Best is trial 85 with value: 9.139726309115304e-09.\n",
      "[I 2023-06-19 18:59:26,711] Trial 87 finished with value: 1.4655930691276353e-08 and parameters: {'n_layers': 3, 'n_units_l0': 77, 'n_units_l1': 128, 'n_units_l2': 33, 'lr_init': 0.012471575069706581, 'decay_epochs': 48, 'decay_rate': 0.7286833632238543, 'batch_size': 16}. Best is trial 85 with value: 9.139726309115304e-09.\n",
      "[I 2023-06-19 19:00:09,706] Trial 88 finished with value: 1.4693590344450058e-07 and parameters: {'n_layers': 6, 'n_units_l0': 80, 'n_units_l1': 123, 'n_units_l2': 35, 'n_units_l3': 42, 'n_units_l4': 34, 'n_units_l5': 122, 'lr_init': 0.00902710169199389, 'decay_epochs': 52, 'decay_rate': 0.7162964766899423, 'batch_size': 64}. Best is trial 85 with value: 9.139726309115304e-09.\n",
      "[I 2023-06-19 19:00:24,466] Trial 89 finished with value: 5.966577009530738e-05 and parameters: {'n_layers': 3, 'n_units_l0': 74, 'n_units_l1': 124, 'n_units_l2': 37, 'lr_init': 0.014769514879372454, 'decay_epochs': 45, 'decay_rate': 0.7460517234005506, 'batch_size': 1024}. Best is trial 85 with value: 9.139726309115304e-09.\n",
      "[I 2023-06-19 19:02:03,776] Trial 90 finished with value: 8.340098389680861e-08 and parameters: {'n_layers': 2, 'n_units_l0': 80, 'n_units_l1': 120, 'lr_init': 0.01726945886199155, 'decay_epochs': 58, 'decay_rate': 0.7726269165662784, 'batch_size': 16}. Best is trial 85 with value: 9.139726309115304e-09.\n",
      "[I 2023-06-19 19:03:48,793] Trial 91 finished with value: 9.062891770383885e-09 and parameters: {'n_layers': 3, 'n_units_l0': 84, 'n_units_l1': 111, 'n_units_l2': 32, 'lr_init': 0.011703102615006086, 'decay_epochs': 42, 'decay_rate': 0.6865596993090048, 'batch_size': 16}. Best is trial 91 with value: 9.062891770383885e-09.\n",
      "[I 2023-06-19 19:05:33,293] Trial 92 finished with value: 1.1690172385669939e-08 and parameters: {'n_layers': 3, 'n_units_l0': 84, 'n_units_l1': 112, 'n_units_l2': 32, 'lr_init': 0.006802029892920216, 'decay_epochs': 42, 'decay_rate': 0.6853971255712952, 'batch_size': 16}. Best is trial 91 with value: 9.062891770383885e-09.\n",
      "[I 2023-06-19 19:07:24,389] Trial 93 finished with value: 1.702560759042626e-08 and parameters: {'n_layers': 3, 'n_units_l0': 84, 'n_units_l1': 112, 'n_units_l2': 34, 'lr_init': 0.006824982928048373, 'decay_epochs': 42, 'decay_rate': 0.6855692624087818, 'batch_size': 16}. Best is trial 91 with value: 9.062891770383885e-09.\n",
      "[I 2023-06-19 19:09:26,739] Trial 94 finished with value: 1.5675631459544093e-08 and parameters: {'n_layers': 3, 'n_units_l0': 87, 'n_units_l1': 111, 'n_units_l2': 32, 'lr_init': 0.00971891736753164, 'decay_epochs': 40, 'decay_rate': 0.6435165608116853, 'batch_size': 16}. Best is trial 91 with value: 9.062891770383885e-09.\n",
      "[I 2023-06-19 19:11:13,278] Trial 95 finished with value: 1.1132067712082971e-08 and parameters: {'n_layers': 3, 'n_units_l0': 83, 'n_units_l1': 106, 'n_units_l2': 32, 'lr_init': 0.010775274086062887, 'decay_epochs': 44, 'decay_rate': 0.6825276549991549, 'batch_size': 16}. Best is trial 91 with value: 9.062891770383885e-09.\n",
      "[I 2023-06-19 19:12:09,980] Trial 96 finished with value: 2.5009061488390216e-08 and parameters: {'n_layers': 3, 'n_units_l0': 81, 'n_units_l1': 105, 'n_units_l2': 35, 'lr_init': 0.011869742205589881, 'decay_epochs': 44, 'decay_rate': 0.6604527149896399, 'batch_size': 32}. Best is trial 91 with value: 9.062891770383885e-09.\n",
      "[I 2023-06-19 19:13:47,770] Trial 97 finished with value: 1.2154041328926724e-08 and parameters: {'n_layers': 3, 'n_units_l0': 90, 'n_units_l1': 107, 'n_units_l2': 39, 'lr_init': 0.011086449354154931, 'decay_epochs': 37, 'decay_rate': 0.6306656595374942, 'batch_size': 16}. Best is trial 91 with value: 9.062891770383885e-09.\n",
      "[I 2023-06-19 19:14:12,311] Trial 98 finished with value: 1.3860716308045085e-06 and parameters: {'n_layers': 3, 'n_units_l0': 73, 'n_units_l1': 117, 'n_units_l2': 37, 'lr_init': 0.014679635803384291, 'decay_epochs': 45, 'decay_rate': 0.7034730042162212, 'batch_size': 128}. Best is trial 91 with value: 9.062891770383885e-09.\n",
      "[I 2023-06-19 19:15:55,804] Trial 99 finished with value: 1.1654821996387454e-08 and parameters: {'n_layers': 4, 'n_units_l0': 70, 'n_units_l1': 121, 'n_units_l2': 33, 'n_units_l3': 54, 'lr_init': 0.017062656241241765, 'decay_epochs': 40, 'decay_rate': 0.671059239828444, 'batch_size': 16}. Best is trial 91 with value: 9.062891770383885e-09.\n"
     ]
    },
    {
     "name": "stdout",
     "output_type": "stream",
     "text": [
      "Number of finished trials:  100\n",
      "Best trial:\n",
      "  Value:  9.062891770383885e-09\n",
      "  Params: \n",
      "    n_layers: 3\n",
      "    n_units_l0: 84\n",
      "    n_units_l1: 111\n",
      "    n_units_l2: 32\n",
      "    lr_init: 0.011703102615006086\n",
      "    decay_epochs: 42\n",
      "    decay_rate: 0.6865596993090048\n",
      "    batch_size: 16\n"
     ]
    }
   ],
   "source": [
    "if __name__ == \"__main__\":\n",
    "    study = optuna.create_study(direction=\"minimize\")\n",
    "    study.optimize(objective, n_trials=100)\n",
    "    \n",
    "    print(\"Number of finished trials: \", len(study.trials))       \n",
    "    \n",
    "    print(\"Best trial:\")\n",
    "    trial = study.best_trial\n",
    "\n",
    "    print(\"  Value: \", trial.value)\n",
    "\n",
    "    print(\"  Params: \")\n",
    "    for key, value in trial.params.items():\n",
    "        print(\"    {}: {}\".format(key, value))"
   ]
  },
  {
   "cell_type": "code",
   "execution_count": 17,
   "metadata": {
    "colab": {
     "base_uri": "https://localhost:8080/",
     "height": 165
    },
    "id": "1gEAmmoB3Vi5",
    "outputId": "0533cc2d-7b87-4f9e-e369-4e6d6c9969eb",
    "ExecuteTime": {
     "end_time": "2023-06-19T11:49:42.704534900Z",
     "start_time": "2023-06-19T11:49:42.658576100Z"
    }
   },
   "outputs": [
    {
     "ename": "ImportError",
     "evalue": "Tried to import '_plotly_utils' but failed. Please make sure that the package is installed correctly to use this feature. Actual error: No module named '_plotly_utils'.",
     "output_type": "error",
     "traceback": [
      "\u001B[1;31m---------------------------------------------------------------------------\u001B[0m",
      "\u001B[1;31mModuleNotFoundError\u001B[0m                       Traceback (most recent call last)",
      "File \u001B[1;32mD:\\hard\\anaconda\\lib\\site-packages\\optuna\\visualization\\_plotly_imports.py:7\u001B[0m, in \u001B[0;36m<module>\u001B[1;34m\u001B[0m\n\u001B[0;32m      6\u001B[0m \u001B[38;5;28;01mwith\u001B[39;00m try_import() \u001B[38;5;28;01mas\u001B[39;00m _imports:\n\u001B[1;32m----> 7\u001B[0m     \u001B[38;5;28;01mimport\u001B[39;00m \u001B[38;5;21;01mplotly\u001B[39;00m\n\u001B[0;32m      8\u001B[0m     \u001B[38;5;28;01mfrom\u001B[39;00m \u001B[38;5;21;01mplotly\u001B[39;00m \u001B[38;5;28;01mimport\u001B[39;00m __version__ \u001B[38;5;28;01mas\u001B[39;00m plotly_version\n",
      "File \u001B[1;32mD:\\hard\\anaconda\\lib\\site-packages\\plotly\\__init__.py:30\u001B[0m, in \u001B[0;36m<module>\u001B[1;34m\u001B[0m\n\u001B[0;32m     29\u001B[0m \u001B[38;5;28;01mimport\u001B[39;00m \u001B[38;5;21;01msys\u001B[39;00m\n\u001B[1;32m---> 30\u001B[0m \u001B[38;5;28;01mfrom\u001B[39;00m \u001B[38;5;21;01m_plotly_utils\u001B[39;00m\u001B[38;5;21;01m.\u001B[39;00m\u001B[38;5;21;01mimporters\u001B[39;00m \u001B[38;5;28;01mimport\u001B[39;00m relative_import\n\u001B[0;32m     33\u001B[0m \u001B[38;5;28;01mif\u001B[39;00m sys\u001B[38;5;241m.\u001B[39mversion_info \u001B[38;5;241m<\u001B[39m (\u001B[38;5;241m3\u001B[39m, \u001B[38;5;241m7\u001B[39m):\n",
      "\u001B[1;31mModuleNotFoundError\u001B[0m: No module named '_plotly_utils'",
      "\nThe above exception was the direct cause of the following exception:\n",
      "\u001B[1;31mImportError\u001B[0m                               Traceback (most recent call last)",
      "Input \u001B[1;32mIn [17]\u001B[0m, in \u001B[0;36m<cell line: 1>\u001B[1;34m()\u001B[0m\n\u001B[1;32m----> 1\u001B[0m \u001B[43moptuna\u001B[49m\u001B[38;5;241;43m.\u001B[39;49m\u001B[43mvisualization\u001B[49m\u001B[38;5;241;43m.\u001B[39;49m\u001B[43mplot_optimization_history\u001B[49m\u001B[43m(\u001B[49m\u001B[43mstudy\u001B[49m\u001B[43m)\u001B[49m\n",
      "File \u001B[1;32mD:\\hard\\anaconda\\lib\\site-packages\\optuna\\visualization\\_optimization_history.py:164\u001B[0m, in \u001B[0;36mplot_optimization_history\u001B[1;34m(study, target, target_name, error_bar)\u001B[0m\n\u001B[0;32m    114\u001B[0m \u001B[38;5;28;01mdef\u001B[39;00m \u001B[38;5;21mplot_optimization_history\u001B[39m(\n\u001B[0;32m    115\u001B[0m     study: Study \u001B[38;5;241m|\u001B[39m Sequence[Study],\n\u001B[0;32m    116\u001B[0m     \u001B[38;5;241m*\u001B[39m,\n\u001B[1;32m   (...)\u001B[0m\n\u001B[0;32m    119\u001B[0m     error_bar: \u001B[38;5;28mbool\u001B[39m \u001B[38;5;241m=\u001B[39m \u001B[38;5;28;01mFalse\u001B[39;00m,\n\u001B[0;32m    120\u001B[0m ) \u001B[38;5;241m-\u001B[39m\u001B[38;5;241m>\u001B[39m \u001B[38;5;124m\"\u001B[39m\u001B[38;5;124mgo.Figure\u001B[39m\u001B[38;5;124m\"\u001B[39m:\n\u001B[0;32m    121\u001B[0m     \u001B[38;5;124;03m\"\"\"Plot optimization history of all trials in a study.\u001B[39;00m\n\u001B[0;32m    122\u001B[0m \n\u001B[0;32m    123\u001B[0m \u001B[38;5;124;03m    Example:\u001B[39;00m\n\u001B[1;32m   (...)\u001B[0m\n\u001B[0;32m    161\u001B[0m \u001B[38;5;124;03m        A :class:`plotly.graph_objs.Figure` object.\u001B[39;00m\n\u001B[0;32m    162\u001B[0m \u001B[38;5;124;03m    \"\"\"\u001B[39;00m\n\u001B[1;32m--> 164\u001B[0m     \u001B[43m_imports\u001B[49m\u001B[38;5;241;43m.\u001B[39;49m\u001B[43mcheck\u001B[49m\u001B[43m(\u001B[49m\u001B[43m)\u001B[49m\n\u001B[0;32m    166\u001B[0m     info_list \u001B[38;5;241m=\u001B[39m _get_optimization_history_info_list(study, target, target_name, error_bar)\n\u001B[0;32m    167\u001B[0m     \u001B[38;5;28;01mreturn\u001B[39;00m _get_optimization_history_plot(info_list, target_name)\n",
      "File \u001B[1;32mD:\\hard\\anaconda\\lib\\site-packages\\optuna\\_imports.py:89\u001B[0m, in \u001B[0;36m_DeferredImportExceptionContextManager.check\u001B[1;34m(self)\u001B[0m\n\u001B[0;32m     87\u001B[0m \u001B[38;5;28;01mif\u001B[39;00m \u001B[38;5;28mself\u001B[39m\u001B[38;5;241m.\u001B[39m_deferred \u001B[38;5;129;01mis\u001B[39;00m \u001B[38;5;129;01mnot\u001B[39;00m \u001B[38;5;28;01mNone\u001B[39;00m:\n\u001B[0;32m     88\u001B[0m     exc_value, message \u001B[38;5;241m=\u001B[39m \u001B[38;5;28mself\u001B[39m\u001B[38;5;241m.\u001B[39m_deferred\n\u001B[1;32m---> 89\u001B[0m     \u001B[38;5;28;01mraise\u001B[39;00m \u001B[38;5;167;01mImportError\u001B[39;00m(message) \u001B[38;5;28;01mfrom\u001B[39;00m \u001B[38;5;21;01mexc_value\u001B[39;00m\n",
      "\u001B[1;31mImportError\u001B[0m: Tried to import '_plotly_utils' but failed. Please make sure that the package is installed correctly to use this feature. Actual error: No module named '_plotly_utils'."
     ]
    }
   ],
   "source": [
    "optuna.visualization.plot_optimization_history(study)#Plotting the optimization history of the study."
   ]
  },
  {
   "cell_type": "code",
   "execution_count": 18,
   "metadata": {
    "id": "YO7EXI19Bbpo",
    "ExecuteTime": {
     "end_time": "2023-06-19T11:49:44.840537300Z",
     "start_time": "2023-06-19T11:49:44.798641300Z"
    }
   },
   "outputs": [
    {
     "ename": "ImportError",
     "evalue": "Tried to import '_plotly_utils' but failed. Please make sure that the package is installed correctly to use this feature. Actual error: No module named '_plotly_utils'.",
     "output_type": "error",
     "traceback": [
      "\u001B[1;31m---------------------------------------------------------------------------\u001B[0m",
      "\u001B[1;31mModuleNotFoundError\u001B[0m                       Traceback (most recent call last)",
      "File \u001B[1;32mD:\\hard\\anaconda\\lib\\site-packages\\optuna\\visualization\\_plotly_imports.py:7\u001B[0m, in \u001B[0;36m<module>\u001B[1;34m\u001B[0m\n\u001B[0;32m      6\u001B[0m \u001B[38;5;28;01mwith\u001B[39;00m try_import() \u001B[38;5;28;01mas\u001B[39;00m _imports:\n\u001B[1;32m----> 7\u001B[0m     \u001B[38;5;28;01mimport\u001B[39;00m \u001B[38;5;21;01mplotly\u001B[39;00m\n\u001B[0;32m      8\u001B[0m     \u001B[38;5;28;01mfrom\u001B[39;00m \u001B[38;5;21;01mplotly\u001B[39;00m \u001B[38;5;28;01mimport\u001B[39;00m __version__ \u001B[38;5;28;01mas\u001B[39;00m plotly_version\n",
      "File \u001B[1;32mD:\\hard\\anaconda\\lib\\site-packages\\plotly\\__init__.py:30\u001B[0m, in \u001B[0;36m<module>\u001B[1;34m\u001B[0m\n\u001B[0;32m     29\u001B[0m \u001B[38;5;28;01mimport\u001B[39;00m \u001B[38;5;21;01msys\u001B[39;00m\n\u001B[1;32m---> 30\u001B[0m \u001B[38;5;28;01mfrom\u001B[39;00m \u001B[38;5;21;01m_plotly_utils\u001B[39;00m\u001B[38;5;21;01m.\u001B[39;00m\u001B[38;5;21;01mimporters\u001B[39;00m \u001B[38;5;28;01mimport\u001B[39;00m relative_import\n\u001B[0;32m     33\u001B[0m \u001B[38;5;28;01mif\u001B[39;00m sys\u001B[38;5;241m.\u001B[39mversion_info \u001B[38;5;241m<\u001B[39m (\u001B[38;5;241m3\u001B[39m, \u001B[38;5;241m7\u001B[39m):\n",
      "\u001B[1;31mModuleNotFoundError\u001B[0m: No module named '_plotly_utils'",
      "\nThe above exception was the direct cause of the following exception:\n",
      "\u001B[1;31mImportError\u001B[0m                               Traceback (most recent call last)",
      "Input \u001B[1;32mIn [18]\u001B[0m, in \u001B[0;36m<cell line: 1>\u001B[1;34m()\u001B[0m\n\u001B[1;32m----> 1\u001B[0m \u001B[43moptuna\u001B[49m\u001B[38;5;241;43m.\u001B[39;49m\u001B[43mvisualization\u001B[49m\u001B[38;5;241;43m.\u001B[39;49m\u001B[43mplot_intermediate_values\u001B[49m\u001B[43m(\u001B[49m\u001B[43mstudy\u001B[49m\u001B[43m)\u001B[49m\n",
      "File \u001B[1;32mD:\\hard\\anaconda\\lib\\site-packages\\optuna\\visualization\\_intermediate_values.py:99\u001B[0m, in \u001B[0;36mplot_intermediate_values\u001B[1;34m(study)\u001B[0m\n\u001B[0;32m     46\u001B[0m \u001B[38;5;28;01mdef\u001B[39;00m \u001B[38;5;21mplot_intermediate_values\u001B[39m(study: Study) \u001B[38;5;241m-\u001B[39m\u001B[38;5;241m>\u001B[39m \u001B[38;5;124m\"\u001B[39m\u001B[38;5;124mgo.Figure\u001B[39m\u001B[38;5;124m\"\u001B[39m:\n\u001B[0;32m     47\u001B[0m     \u001B[38;5;124;03m\"\"\"Plot intermediate values of all trials in a study.\u001B[39;00m\n\u001B[0;32m     48\u001B[0m \n\u001B[0;32m     49\u001B[0m \u001B[38;5;124;03m    Example:\u001B[39;00m\n\u001B[1;32m   (...)\u001B[0m\n\u001B[0;32m     96\u001B[0m \u001B[38;5;124;03m        A :class:`plotly.graph_objs.Figure` object.\u001B[39;00m\n\u001B[0;32m     97\u001B[0m \u001B[38;5;124;03m    \"\"\"\u001B[39;00m\n\u001B[1;32m---> 99\u001B[0m     \u001B[43m_imports\u001B[49m\u001B[38;5;241;43m.\u001B[39;49m\u001B[43mcheck\u001B[49m\u001B[43m(\u001B[49m\u001B[43m)\u001B[49m\n\u001B[0;32m    100\u001B[0m     \u001B[38;5;28;01mreturn\u001B[39;00m _get_intermediate_plot(_get_intermediate_plot_info(study))\n",
      "File \u001B[1;32mD:\\hard\\anaconda\\lib\\site-packages\\optuna\\_imports.py:89\u001B[0m, in \u001B[0;36m_DeferredImportExceptionContextManager.check\u001B[1;34m(self)\u001B[0m\n\u001B[0;32m     87\u001B[0m \u001B[38;5;28;01mif\u001B[39;00m \u001B[38;5;28mself\u001B[39m\u001B[38;5;241m.\u001B[39m_deferred \u001B[38;5;129;01mis\u001B[39;00m \u001B[38;5;129;01mnot\u001B[39;00m \u001B[38;5;28;01mNone\u001B[39;00m:\n\u001B[0;32m     88\u001B[0m     exc_value, message \u001B[38;5;241m=\u001B[39m \u001B[38;5;28mself\u001B[39m\u001B[38;5;241m.\u001B[39m_deferred\n\u001B[1;32m---> 89\u001B[0m     \u001B[38;5;28;01mraise\u001B[39;00m \u001B[38;5;167;01mImportError\u001B[39;00m(message) \u001B[38;5;28;01mfrom\u001B[39;00m \u001B[38;5;21;01mexc_value\u001B[39;00m\n",
      "\u001B[1;31mImportError\u001B[0m: Tried to import '_plotly_utils' but failed. Please make sure that the package is installed correctly to use this feature. Actual error: No module named '_plotly_utils'."
     ]
    }
   ],
   "source": [
    "optuna.visualization.plot_intermediate_values(study)#Visualizing the Learning Curves of the Trials"
   ]
  },
  {
   "cell_type": "code",
   "execution_count": 19,
   "metadata": {
    "id": "hondL6qaBzAG",
    "ExecuteTime": {
     "end_time": "2023-06-19T11:49:45.560562Z",
     "start_time": "2023-06-19T11:49:45.517468Z"
    }
   },
   "outputs": [
    {
     "ename": "ImportError",
     "evalue": "Tried to import '_plotly_utils' but failed. Please make sure that the package is installed correctly to use this feature. Actual error: No module named '_plotly_utils'.",
     "output_type": "error",
     "traceback": [
      "\u001B[1;31m---------------------------------------------------------------------------\u001B[0m",
      "\u001B[1;31mModuleNotFoundError\u001B[0m                       Traceback (most recent call last)",
      "File \u001B[1;32mD:\\hard\\anaconda\\lib\\site-packages\\optuna\\visualization\\_plotly_imports.py:7\u001B[0m, in \u001B[0;36m<module>\u001B[1;34m\u001B[0m\n\u001B[0;32m      6\u001B[0m \u001B[38;5;28;01mwith\u001B[39;00m try_import() \u001B[38;5;28;01mas\u001B[39;00m _imports:\n\u001B[1;32m----> 7\u001B[0m     \u001B[38;5;28;01mimport\u001B[39;00m \u001B[38;5;21;01mplotly\u001B[39;00m\n\u001B[0;32m      8\u001B[0m     \u001B[38;5;28;01mfrom\u001B[39;00m \u001B[38;5;21;01mplotly\u001B[39;00m \u001B[38;5;28;01mimport\u001B[39;00m __version__ \u001B[38;5;28;01mas\u001B[39;00m plotly_version\n",
      "File \u001B[1;32mD:\\hard\\anaconda\\lib\\site-packages\\plotly\\__init__.py:30\u001B[0m, in \u001B[0;36m<module>\u001B[1;34m\u001B[0m\n\u001B[0;32m     29\u001B[0m \u001B[38;5;28;01mimport\u001B[39;00m \u001B[38;5;21;01msys\u001B[39;00m\n\u001B[1;32m---> 30\u001B[0m \u001B[38;5;28;01mfrom\u001B[39;00m \u001B[38;5;21;01m_plotly_utils\u001B[39;00m\u001B[38;5;21;01m.\u001B[39;00m\u001B[38;5;21;01mimporters\u001B[39;00m \u001B[38;5;28;01mimport\u001B[39;00m relative_import\n\u001B[0;32m     33\u001B[0m \u001B[38;5;28;01mif\u001B[39;00m sys\u001B[38;5;241m.\u001B[39mversion_info \u001B[38;5;241m<\u001B[39m (\u001B[38;5;241m3\u001B[39m, \u001B[38;5;241m7\u001B[39m):\n",
      "\u001B[1;31mModuleNotFoundError\u001B[0m: No module named '_plotly_utils'",
      "\nThe above exception was the direct cause of the following exception:\n",
      "\u001B[1;31mImportError\u001B[0m                               Traceback (most recent call last)",
      "Input \u001B[1;32mIn [19]\u001B[0m, in \u001B[0;36m<cell line: 1>\u001B[1;34m()\u001B[0m\n\u001B[1;32m----> 1\u001B[0m \u001B[43moptuna\u001B[49m\u001B[38;5;241;43m.\u001B[39;49m\u001B[43mvisualization\u001B[49m\u001B[38;5;241;43m.\u001B[39;49m\u001B[43mplot_parallel_coordinate\u001B[49m\u001B[43m(\u001B[49m\u001B[43mstudy\u001B[49m\u001B[43m)\u001B[49m\n",
      "File \u001B[1;32mD:\\hard\\anaconda\\lib\\site-packages\\optuna\\visualization\\_parallel_coordinate.py:105\u001B[0m, in \u001B[0;36mplot_parallel_coordinate\u001B[1;34m(study, params, target, target_name)\u001B[0m\n\u001B[0;32m     50\u001B[0m \u001B[38;5;28;01mdef\u001B[39;00m \u001B[38;5;21mplot_parallel_coordinate\u001B[39m(\n\u001B[0;32m     51\u001B[0m     study: Study,\n\u001B[0;32m     52\u001B[0m     params: \u001B[38;5;28mlist\u001B[39m[\u001B[38;5;28mstr\u001B[39m] \u001B[38;5;241m|\u001B[39m \u001B[38;5;28;01mNone\u001B[39;00m \u001B[38;5;241m=\u001B[39m \u001B[38;5;28;01mNone\u001B[39;00m,\n\u001B[1;32m   (...)\u001B[0m\n\u001B[0;32m     55\u001B[0m     target_name: \u001B[38;5;28mstr\u001B[39m \u001B[38;5;241m=\u001B[39m \u001B[38;5;124m\"\u001B[39m\u001B[38;5;124mObjective Value\u001B[39m\u001B[38;5;124m\"\u001B[39m,\n\u001B[0;32m     56\u001B[0m ) \u001B[38;5;241m-\u001B[39m\u001B[38;5;241m>\u001B[39m \u001B[38;5;124m\"\u001B[39m\u001B[38;5;124mgo.Figure\u001B[39m\u001B[38;5;124m\"\u001B[39m:\n\u001B[0;32m     57\u001B[0m     \u001B[38;5;124;03m\"\"\"Plot the high-dimensional parameter relationships in a study.\u001B[39;00m\n\u001B[0;32m     58\u001B[0m \n\u001B[0;32m     59\u001B[0m \u001B[38;5;124;03m    Note that, if a parameter contains missing values, a trial with missing values is not plotted.\u001B[39;00m\n\u001B[1;32m   (...)\u001B[0m\n\u001B[0;32m    102\u001B[0m \u001B[38;5;124;03m        of :class:`~optuna.study.Study` is ``minimize``.\u001B[39;00m\n\u001B[0;32m    103\u001B[0m \u001B[38;5;124;03m    \"\"\"\u001B[39;00m\n\u001B[1;32m--> 105\u001B[0m     \u001B[43m_imports\u001B[49m\u001B[38;5;241;43m.\u001B[39;49m\u001B[43mcheck\u001B[49m\u001B[43m(\u001B[49m\u001B[43m)\u001B[49m\n\u001B[0;32m    106\u001B[0m     info \u001B[38;5;241m=\u001B[39m _get_parallel_coordinate_info(study, params, target, target_name)\n\u001B[0;32m    107\u001B[0m     \u001B[38;5;28;01mreturn\u001B[39;00m _get_parallel_coordinate_plot(info)\n",
      "File \u001B[1;32mD:\\hard\\anaconda\\lib\\site-packages\\optuna\\_imports.py:89\u001B[0m, in \u001B[0;36m_DeferredImportExceptionContextManager.check\u001B[1;34m(self)\u001B[0m\n\u001B[0;32m     87\u001B[0m \u001B[38;5;28;01mif\u001B[39;00m \u001B[38;5;28mself\u001B[39m\u001B[38;5;241m.\u001B[39m_deferred \u001B[38;5;129;01mis\u001B[39;00m \u001B[38;5;129;01mnot\u001B[39;00m \u001B[38;5;28;01mNone\u001B[39;00m:\n\u001B[0;32m     88\u001B[0m     exc_value, message \u001B[38;5;241m=\u001B[39m \u001B[38;5;28mself\u001B[39m\u001B[38;5;241m.\u001B[39m_deferred\n\u001B[1;32m---> 89\u001B[0m     \u001B[38;5;28;01mraise\u001B[39;00m \u001B[38;5;167;01mImportError\u001B[39;00m(message) \u001B[38;5;28;01mfrom\u001B[39;00m \u001B[38;5;21;01mexc_value\u001B[39;00m\n",
      "\u001B[1;31mImportError\u001B[0m: Tried to import '_plotly_utils' but failed. Please make sure that the package is installed correctly to use this feature. Actual error: No module named '_plotly_utils'."
     ]
    }
   ],
   "source": [
    "optuna.visualization.plot_parallel_coordinate(study)#Visualizing High-dimensional Parameter Relationships"
   ]
  },
  {
   "cell_type": "code",
   "execution_count": 20,
   "metadata": {
    "colab": {
     "base_uri": "https://localhost:8080/",
     "height": 542
    },
    "id": "VBBQ6xP3B95v",
    "outputId": "07fe6926-0f1d-4170-f896-20d973b967ce",
    "ExecuteTime": {
     "end_time": "2023-06-19T11:49:46.048298Z",
     "start_time": "2023-06-19T11:49:46.004444Z"
    }
   },
   "outputs": [
    {
     "ename": "ImportError",
     "evalue": "Tried to import '_plotly_utils' but failed. Please make sure that the package is installed correctly to use this feature. Actual error: No module named '_plotly_utils'.",
     "output_type": "error",
     "traceback": [
      "\u001B[1;31m---------------------------------------------------------------------------\u001B[0m",
      "\u001B[1;31mModuleNotFoundError\u001B[0m                       Traceback (most recent call last)",
      "File \u001B[1;32mD:\\hard\\anaconda\\lib\\site-packages\\optuna\\visualization\\_plotly_imports.py:7\u001B[0m, in \u001B[0;36m<module>\u001B[1;34m\u001B[0m\n\u001B[0;32m      6\u001B[0m \u001B[38;5;28;01mwith\u001B[39;00m try_import() \u001B[38;5;28;01mas\u001B[39;00m _imports:\n\u001B[1;32m----> 7\u001B[0m     \u001B[38;5;28;01mimport\u001B[39;00m \u001B[38;5;21;01mplotly\u001B[39;00m\n\u001B[0;32m      8\u001B[0m     \u001B[38;5;28;01mfrom\u001B[39;00m \u001B[38;5;21;01mplotly\u001B[39;00m \u001B[38;5;28;01mimport\u001B[39;00m __version__ \u001B[38;5;28;01mas\u001B[39;00m plotly_version\n",
      "File \u001B[1;32mD:\\hard\\anaconda\\lib\\site-packages\\plotly\\__init__.py:30\u001B[0m, in \u001B[0;36m<module>\u001B[1;34m\u001B[0m\n\u001B[0;32m     29\u001B[0m \u001B[38;5;28;01mimport\u001B[39;00m \u001B[38;5;21;01msys\u001B[39;00m\n\u001B[1;32m---> 30\u001B[0m \u001B[38;5;28;01mfrom\u001B[39;00m \u001B[38;5;21;01m_plotly_utils\u001B[39;00m\u001B[38;5;21;01m.\u001B[39;00m\u001B[38;5;21;01mimporters\u001B[39;00m \u001B[38;5;28;01mimport\u001B[39;00m relative_import\n\u001B[0;32m     33\u001B[0m \u001B[38;5;28;01mif\u001B[39;00m sys\u001B[38;5;241m.\u001B[39mversion_info \u001B[38;5;241m<\u001B[39m (\u001B[38;5;241m3\u001B[39m, \u001B[38;5;241m7\u001B[39m):\n",
      "\u001B[1;31mModuleNotFoundError\u001B[0m: No module named '_plotly_utils'",
      "\nThe above exception was the direct cause of the following exception:\n",
      "\u001B[1;31mImportError\u001B[0m                               Traceback (most recent call last)",
      "Input \u001B[1;32mIn [20]\u001B[0m, in \u001B[0;36m<cell line: 1>\u001B[1;34m()\u001B[0m\n\u001B[1;32m----> 1\u001B[0m \u001B[43moptuna\u001B[49m\u001B[38;5;241;43m.\u001B[39;49m\u001B[43mvisualization\u001B[49m\u001B[38;5;241;43m.\u001B[39;49m\u001B[43mplot_parallel_coordinate\u001B[49m\u001B[43m(\u001B[49m\u001B[43mstudy\u001B[49m\u001B[43m,\u001B[49m\u001B[43m \u001B[49m\u001B[43mparams\u001B[49m\u001B[38;5;241;43m=\u001B[39;49m\u001B[43m[\u001B[49m\u001B[38;5;124;43m'\u001B[39;49m\u001B[38;5;124;43mlr_init\u001B[39;49m\u001B[38;5;124;43m'\u001B[39;49m\u001B[43m,\u001B[49m\u001B[43m \u001B[49m\u001B[38;5;124;43m'\u001B[39;49m\u001B[38;5;124;43mn_layers\u001B[39;49m\u001B[38;5;124;43m'\u001B[39;49m\u001B[43m,\u001B[49m\u001B[43m \u001B[49m\u001B[38;5;124;43m'\u001B[39;49m\u001B[38;5;124;43mn_units_l0\u001B[39;49m\u001B[38;5;124;43m'\u001B[39;49m\u001B[43m,\u001B[49m\u001B[43m \u001B[49m\u001B[38;5;124;43m'\u001B[39;49m\u001B[38;5;124;43mn_units_l1\u001B[39;49m\u001B[38;5;124;43m'\u001B[39;49m\u001B[43m,\u001B[49m\u001B[43m \u001B[49m\u001B[38;5;124;43m'\u001B[39;49m\u001B[38;5;124;43mn_units_l2\u001B[39;49m\u001B[38;5;124;43m'\u001B[39;49m\u001B[43m,\u001B[49m\u001B[43m \u001B[49m\u001B[38;5;124;43m'\u001B[39;49m\u001B[38;5;124;43mn_units_l3\u001B[39;49m\u001B[38;5;124;43m'\u001B[39;49m\u001B[43m,\u001B[49m\u001B[43m \u001B[49m\u001B[38;5;124;43m'\u001B[39;49m\u001B[38;5;124;43mdecay_epochs\u001B[39;49m\u001B[38;5;124;43m'\u001B[39;49m\u001B[43m,\u001B[49m\u001B[43m \u001B[49m\u001B[38;5;124;43m'\u001B[39;49m\u001B[38;5;124;43mdecay_rate\u001B[39;49m\u001B[38;5;124;43m'\u001B[39;49m\u001B[43m]\u001B[49m\u001B[43m)\u001B[49m\n",
      "File \u001B[1;32mD:\\hard\\anaconda\\lib\\site-packages\\optuna\\visualization\\_parallel_coordinate.py:105\u001B[0m, in \u001B[0;36mplot_parallel_coordinate\u001B[1;34m(study, params, target, target_name)\u001B[0m\n\u001B[0;32m     50\u001B[0m \u001B[38;5;28;01mdef\u001B[39;00m \u001B[38;5;21mplot_parallel_coordinate\u001B[39m(\n\u001B[0;32m     51\u001B[0m     study: Study,\n\u001B[0;32m     52\u001B[0m     params: \u001B[38;5;28mlist\u001B[39m[\u001B[38;5;28mstr\u001B[39m] \u001B[38;5;241m|\u001B[39m \u001B[38;5;28;01mNone\u001B[39;00m \u001B[38;5;241m=\u001B[39m \u001B[38;5;28;01mNone\u001B[39;00m,\n\u001B[1;32m   (...)\u001B[0m\n\u001B[0;32m     55\u001B[0m     target_name: \u001B[38;5;28mstr\u001B[39m \u001B[38;5;241m=\u001B[39m \u001B[38;5;124m\"\u001B[39m\u001B[38;5;124mObjective Value\u001B[39m\u001B[38;5;124m\"\u001B[39m,\n\u001B[0;32m     56\u001B[0m ) \u001B[38;5;241m-\u001B[39m\u001B[38;5;241m>\u001B[39m \u001B[38;5;124m\"\u001B[39m\u001B[38;5;124mgo.Figure\u001B[39m\u001B[38;5;124m\"\u001B[39m:\n\u001B[0;32m     57\u001B[0m     \u001B[38;5;124;03m\"\"\"Plot the high-dimensional parameter relationships in a study.\u001B[39;00m\n\u001B[0;32m     58\u001B[0m \n\u001B[0;32m     59\u001B[0m \u001B[38;5;124;03m    Note that, if a parameter contains missing values, a trial with missing values is not plotted.\u001B[39;00m\n\u001B[1;32m   (...)\u001B[0m\n\u001B[0;32m    102\u001B[0m \u001B[38;5;124;03m        of :class:`~optuna.study.Study` is ``minimize``.\u001B[39;00m\n\u001B[0;32m    103\u001B[0m \u001B[38;5;124;03m    \"\"\"\u001B[39;00m\n\u001B[1;32m--> 105\u001B[0m     \u001B[43m_imports\u001B[49m\u001B[38;5;241;43m.\u001B[39;49m\u001B[43mcheck\u001B[49m\u001B[43m(\u001B[49m\u001B[43m)\u001B[49m\n\u001B[0;32m    106\u001B[0m     info \u001B[38;5;241m=\u001B[39m _get_parallel_coordinate_info(study, params, target, target_name)\n\u001B[0;32m    107\u001B[0m     \u001B[38;5;28;01mreturn\u001B[39;00m _get_parallel_coordinate_plot(info)\n",
      "File \u001B[1;32mD:\\hard\\anaconda\\lib\\site-packages\\optuna\\_imports.py:89\u001B[0m, in \u001B[0;36m_DeferredImportExceptionContextManager.check\u001B[1;34m(self)\u001B[0m\n\u001B[0;32m     87\u001B[0m \u001B[38;5;28;01mif\u001B[39;00m \u001B[38;5;28mself\u001B[39m\u001B[38;5;241m.\u001B[39m_deferred \u001B[38;5;129;01mis\u001B[39;00m \u001B[38;5;129;01mnot\u001B[39;00m \u001B[38;5;28;01mNone\u001B[39;00m:\n\u001B[0;32m     88\u001B[0m     exc_value, message \u001B[38;5;241m=\u001B[39m \u001B[38;5;28mself\u001B[39m\u001B[38;5;241m.\u001B[39m_deferred\n\u001B[1;32m---> 89\u001B[0m     \u001B[38;5;28;01mraise\u001B[39;00m \u001B[38;5;167;01mImportError\u001B[39;00m(message) \u001B[38;5;28;01mfrom\u001B[39;00m \u001B[38;5;21;01mexc_value\u001B[39;00m\n",
      "\u001B[1;31mImportError\u001B[0m: Tried to import '_plotly_utils' but failed. Please make sure that the package is installed correctly to use this feature. Actual error: No module named '_plotly_utils'."
     ]
    }
   ],
   "source": [
    "optuna.visualization.plot_parallel_coordinate(study, params=['lr_init', 'n_layers', 'n_units_l0', 'n_units_l1', 'n_units_l2', 'n_units_l3', 'decay_epochs', 'decay_rate'])#Selecting Parameters to Visualize"
   ]
  },
  {
   "cell_type": "code",
   "execution_count": 11,
   "metadata": {
    "id": "G656q4EkCKA7",
    "ExecuteTime": {
     "end_time": "2023-06-19T11:36:16.439261100Z",
     "start_time": "2023-06-19T11:36:16.349710300Z"
    }
   },
   "outputs": [
    {
     "ename": "ImportError",
     "evalue": "Tried to import '_plotly_utils' but failed. Please make sure that the package is installed correctly to use this feature. Actual error: No module named '_plotly_utils'.",
     "output_type": "error",
     "traceback": [
      "\u001B[1;31m---------------------------------------------------------------------------\u001B[0m",
      "\u001B[1;31mModuleNotFoundError\u001B[0m                       Traceback (most recent call last)",
      "File \u001B[1;32mD:\\hard\\anaconda\\lib\\site-packages\\optuna\\visualization\\_plotly_imports.py:7\u001B[0m, in \u001B[0;36m<module>\u001B[1;34m\u001B[0m\n\u001B[0;32m      6\u001B[0m \u001B[38;5;28;01mwith\u001B[39;00m try_import() \u001B[38;5;28;01mas\u001B[39;00m _imports:\n\u001B[1;32m----> 7\u001B[0m     \u001B[38;5;28;01mimport\u001B[39;00m \u001B[38;5;21;01mplotly\u001B[39;00m\n\u001B[0;32m      8\u001B[0m     \u001B[38;5;28;01mfrom\u001B[39;00m \u001B[38;5;21;01mplotly\u001B[39;00m \u001B[38;5;28;01mimport\u001B[39;00m __version__ \u001B[38;5;28;01mas\u001B[39;00m plotly_version\n",
      "File \u001B[1;32mD:\\hard\\anaconda\\lib\\site-packages\\plotly\\__init__.py:30\u001B[0m, in \u001B[0;36m<module>\u001B[1;34m\u001B[0m\n\u001B[0;32m     29\u001B[0m \u001B[38;5;28;01mimport\u001B[39;00m \u001B[38;5;21;01msys\u001B[39;00m\n\u001B[1;32m---> 30\u001B[0m \u001B[38;5;28;01mfrom\u001B[39;00m \u001B[38;5;21;01m_plotly_utils\u001B[39;00m\u001B[38;5;21;01m.\u001B[39;00m\u001B[38;5;21;01mimporters\u001B[39;00m \u001B[38;5;28;01mimport\u001B[39;00m relative_import\n\u001B[0;32m     33\u001B[0m \u001B[38;5;28;01mif\u001B[39;00m sys\u001B[38;5;241m.\u001B[39mversion_info \u001B[38;5;241m<\u001B[39m (\u001B[38;5;241m3\u001B[39m, \u001B[38;5;241m7\u001B[39m):\n",
      "\u001B[1;31mModuleNotFoundError\u001B[0m: No module named '_plotly_utils'",
      "\nThe above exception was the direct cause of the following exception:\n",
      "\u001B[1;31mImportError\u001B[0m                               Traceback (most recent call last)",
      "Input \u001B[1;32mIn [11]\u001B[0m, in \u001B[0;36m<cell line: 1>\u001B[1;34m()\u001B[0m\n\u001B[1;32m----> 1\u001B[0m \u001B[43moptuna\u001B[49m\u001B[38;5;241;43m.\u001B[39;49m\u001B[43mvisualization\u001B[49m\u001B[38;5;241;43m.\u001B[39;49m\u001B[43mplot_contour\u001B[49m\u001B[43m(\u001B[49m\u001B[43mstudy\u001B[49m\u001B[43m)\u001B[49m\n",
      "File \u001B[1;32mD:\\hard\\anaconda\\lib\\site-packages\\optuna\\visualization\\_contour.py:109\u001B[0m, in \u001B[0;36mplot_contour\u001B[1;34m(study, params, target, target_name)\u001B[0m\n\u001B[0;32m     54\u001B[0m \u001B[38;5;28;01mdef\u001B[39;00m \u001B[38;5;21mplot_contour\u001B[39m(\n\u001B[0;32m     55\u001B[0m     study: Study,\n\u001B[0;32m     56\u001B[0m     params: \u001B[38;5;28mlist\u001B[39m[\u001B[38;5;28mstr\u001B[39m] \u001B[38;5;241m|\u001B[39m \u001B[38;5;28;01mNone\u001B[39;00m \u001B[38;5;241m=\u001B[39m \u001B[38;5;28;01mNone\u001B[39;00m,\n\u001B[1;32m   (...)\u001B[0m\n\u001B[0;32m     59\u001B[0m     target_name: \u001B[38;5;28mstr\u001B[39m \u001B[38;5;241m=\u001B[39m \u001B[38;5;124m\"\u001B[39m\u001B[38;5;124mObjective Value\u001B[39m\u001B[38;5;124m\"\u001B[39m,\n\u001B[0;32m     60\u001B[0m ) \u001B[38;5;241m-\u001B[39m\u001B[38;5;241m>\u001B[39m \u001B[38;5;124m\"\u001B[39m\u001B[38;5;124mgo.Figure\u001B[39m\u001B[38;5;124m\"\u001B[39m:\n\u001B[0;32m     61\u001B[0m     \u001B[38;5;124;03m\"\"\"Plot the parameter relationship as contour plot in a study.\u001B[39;00m\n\u001B[0;32m     62\u001B[0m \n\u001B[0;32m     63\u001B[0m \u001B[38;5;124;03m    Note that, if a parameter contains missing values, a trial with missing values is not plotted.\u001B[39;00m\n\u001B[1;32m   (...)\u001B[0m\n\u001B[0;32m    106\u001B[0m \u001B[38;5;124;03m        of :class:`~optuna.study.Study` is ``minimize``.\u001B[39;00m\n\u001B[0;32m    107\u001B[0m \u001B[38;5;124;03m    \"\"\"\u001B[39;00m\n\u001B[1;32m--> 109\u001B[0m     \u001B[43m_imports\u001B[49m\u001B[38;5;241;43m.\u001B[39;49m\u001B[43mcheck\u001B[49m\u001B[43m(\u001B[49m\u001B[43m)\u001B[49m\n\u001B[0;32m    110\u001B[0m     info \u001B[38;5;241m=\u001B[39m _get_contour_info(study, params, target, target_name)\n\u001B[0;32m    111\u001B[0m     \u001B[38;5;28;01mreturn\u001B[39;00m _get_contour_plot(info)\n",
      "File \u001B[1;32mD:\\hard\\anaconda\\lib\\site-packages\\optuna\\_imports.py:89\u001B[0m, in \u001B[0;36m_DeferredImportExceptionContextManager.check\u001B[1;34m(self)\u001B[0m\n\u001B[0;32m     87\u001B[0m \u001B[38;5;28;01mif\u001B[39;00m \u001B[38;5;28mself\u001B[39m\u001B[38;5;241m.\u001B[39m_deferred \u001B[38;5;129;01mis\u001B[39;00m \u001B[38;5;129;01mnot\u001B[39;00m \u001B[38;5;28;01mNone\u001B[39;00m:\n\u001B[0;32m     88\u001B[0m     exc_value, message \u001B[38;5;241m=\u001B[39m \u001B[38;5;28mself\u001B[39m\u001B[38;5;241m.\u001B[39m_deferred\n\u001B[1;32m---> 89\u001B[0m     \u001B[38;5;28;01mraise\u001B[39;00m \u001B[38;5;167;01mImportError\u001B[39;00m(message) \u001B[38;5;28;01mfrom\u001B[39;00m \u001B[38;5;21;01mexc_value\u001B[39;00m\n",
      "\u001B[1;31mImportError\u001B[0m: Tried to import '_plotly_utils' but failed. Please make sure that the package is installed correctly to use this feature. Actual error: No module named '_plotly_utils'."
     ]
    }
   ],
   "source": [
    "optuna.visualization.plot_contour(study)#Visualizing Parameter Relationships"
   ]
  },
  {
   "cell_type": "code",
   "execution_count": 12,
   "metadata": {
    "colab": {
     "base_uri": "https://localhost:8080/",
     "height": 542
    },
    "id": "EPgkkZlpCTk9",
    "outputId": "d06837b6-e6a6-4e7b-a385-c11dd08e443c",
    "ExecuteTime": {
     "end_time": "2023-06-19T11:36:17.288585400Z",
     "start_time": "2023-06-19T11:36:17.272967400Z"
    }
   },
   "outputs": [
    {
     "ename": "ImportError",
     "evalue": "Tried to import '_plotly_utils' but failed. Please make sure that the package is installed correctly to use this feature. Actual error: No module named '_plotly_utils'.",
     "output_type": "error",
     "traceback": [
      "\u001B[1;31m---------------------------------------------------------------------------\u001B[0m",
      "\u001B[1;31mModuleNotFoundError\u001B[0m                       Traceback (most recent call last)",
      "File \u001B[1;32mD:\\hard\\anaconda\\lib\\site-packages\\optuna\\visualization\\_plotly_imports.py:7\u001B[0m, in \u001B[0;36m<module>\u001B[1;34m\u001B[0m\n\u001B[0;32m      6\u001B[0m \u001B[38;5;28;01mwith\u001B[39;00m try_import() \u001B[38;5;28;01mas\u001B[39;00m _imports:\n\u001B[1;32m----> 7\u001B[0m     \u001B[38;5;28;01mimport\u001B[39;00m \u001B[38;5;21;01mplotly\u001B[39;00m\n\u001B[0;32m      8\u001B[0m     \u001B[38;5;28;01mfrom\u001B[39;00m \u001B[38;5;21;01mplotly\u001B[39;00m \u001B[38;5;28;01mimport\u001B[39;00m __version__ \u001B[38;5;28;01mas\u001B[39;00m plotly_version\n",
      "File \u001B[1;32mD:\\hard\\anaconda\\lib\\site-packages\\plotly\\__init__.py:30\u001B[0m, in \u001B[0;36m<module>\u001B[1;34m\u001B[0m\n\u001B[0;32m     29\u001B[0m \u001B[38;5;28;01mimport\u001B[39;00m \u001B[38;5;21;01msys\u001B[39;00m\n\u001B[1;32m---> 30\u001B[0m \u001B[38;5;28;01mfrom\u001B[39;00m \u001B[38;5;21;01m_plotly_utils\u001B[39;00m\u001B[38;5;21;01m.\u001B[39;00m\u001B[38;5;21;01mimporters\u001B[39;00m \u001B[38;5;28;01mimport\u001B[39;00m relative_import\n\u001B[0;32m     33\u001B[0m \u001B[38;5;28;01mif\u001B[39;00m sys\u001B[38;5;241m.\u001B[39mversion_info \u001B[38;5;241m<\u001B[39m (\u001B[38;5;241m3\u001B[39m, \u001B[38;5;241m7\u001B[39m):\n",
      "\u001B[1;31mModuleNotFoundError\u001B[0m: No module named '_plotly_utils'",
      "\nThe above exception was the direct cause of the following exception:\n",
      "\u001B[1;31mImportError\u001B[0m                               Traceback (most recent call last)",
      "Input \u001B[1;32mIn [12]\u001B[0m, in \u001B[0;36m<cell line: 1>\u001B[1;34m()\u001B[0m\n\u001B[1;32m----> 1\u001B[0m \u001B[43moptuna\u001B[49m\u001B[38;5;241;43m.\u001B[39;49m\u001B[43mvisualization\u001B[49m\u001B[38;5;241;43m.\u001B[39;49m\u001B[43mplot_contour\u001B[49m\u001B[43m(\u001B[49m\u001B[43mstudy\u001B[49m\u001B[43m,\u001B[49m\u001B[43m \u001B[49m\u001B[43mparams\u001B[49m\u001B[38;5;241;43m=\u001B[39;49m\u001B[43m[\u001B[49m\u001B[38;5;124;43m'\u001B[39;49m\u001B[38;5;124;43mn_units_l0\u001B[39;49m\u001B[38;5;124;43m'\u001B[39;49m\u001B[43m,\u001B[49m\u001B[43m \u001B[49m\u001B[38;5;124;43m'\u001B[39;49m\u001B[38;5;124;43mn_units_l1\u001B[39;49m\u001B[38;5;124;43m'\u001B[39;49m\u001B[43m]\u001B[49m\u001B[43m)\u001B[49m\n",
      "File \u001B[1;32mD:\\hard\\anaconda\\lib\\site-packages\\optuna\\visualization\\_contour.py:109\u001B[0m, in \u001B[0;36mplot_contour\u001B[1;34m(study, params, target, target_name)\u001B[0m\n\u001B[0;32m     54\u001B[0m \u001B[38;5;28;01mdef\u001B[39;00m \u001B[38;5;21mplot_contour\u001B[39m(\n\u001B[0;32m     55\u001B[0m     study: Study,\n\u001B[0;32m     56\u001B[0m     params: \u001B[38;5;28mlist\u001B[39m[\u001B[38;5;28mstr\u001B[39m] \u001B[38;5;241m|\u001B[39m \u001B[38;5;28;01mNone\u001B[39;00m \u001B[38;5;241m=\u001B[39m \u001B[38;5;28;01mNone\u001B[39;00m,\n\u001B[1;32m   (...)\u001B[0m\n\u001B[0;32m     59\u001B[0m     target_name: \u001B[38;5;28mstr\u001B[39m \u001B[38;5;241m=\u001B[39m \u001B[38;5;124m\"\u001B[39m\u001B[38;5;124mObjective Value\u001B[39m\u001B[38;5;124m\"\u001B[39m,\n\u001B[0;32m     60\u001B[0m ) \u001B[38;5;241m-\u001B[39m\u001B[38;5;241m>\u001B[39m \u001B[38;5;124m\"\u001B[39m\u001B[38;5;124mgo.Figure\u001B[39m\u001B[38;5;124m\"\u001B[39m:\n\u001B[0;32m     61\u001B[0m     \u001B[38;5;124;03m\"\"\"Plot the parameter relationship as contour plot in a study.\u001B[39;00m\n\u001B[0;32m     62\u001B[0m \n\u001B[0;32m     63\u001B[0m \u001B[38;5;124;03m    Note that, if a parameter contains missing values, a trial with missing values is not plotted.\u001B[39;00m\n\u001B[1;32m   (...)\u001B[0m\n\u001B[0;32m    106\u001B[0m \u001B[38;5;124;03m        of :class:`~optuna.study.Study` is ``minimize``.\u001B[39;00m\n\u001B[0;32m    107\u001B[0m \u001B[38;5;124;03m    \"\"\"\u001B[39;00m\n\u001B[1;32m--> 109\u001B[0m     \u001B[43m_imports\u001B[49m\u001B[38;5;241;43m.\u001B[39;49m\u001B[43mcheck\u001B[49m\u001B[43m(\u001B[49m\u001B[43m)\u001B[49m\n\u001B[0;32m    110\u001B[0m     info \u001B[38;5;241m=\u001B[39m _get_contour_info(study, params, target, target_name)\n\u001B[0;32m    111\u001B[0m     \u001B[38;5;28;01mreturn\u001B[39;00m _get_contour_plot(info)\n",
      "File \u001B[1;32mD:\\hard\\anaconda\\lib\\site-packages\\optuna\\_imports.py:89\u001B[0m, in \u001B[0;36m_DeferredImportExceptionContextManager.check\u001B[1;34m(self)\u001B[0m\n\u001B[0;32m     87\u001B[0m \u001B[38;5;28;01mif\u001B[39;00m \u001B[38;5;28mself\u001B[39m\u001B[38;5;241m.\u001B[39m_deferred \u001B[38;5;129;01mis\u001B[39;00m \u001B[38;5;129;01mnot\u001B[39;00m \u001B[38;5;28;01mNone\u001B[39;00m:\n\u001B[0;32m     88\u001B[0m     exc_value, message \u001B[38;5;241m=\u001B[39m \u001B[38;5;28mself\u001B[39m\u001B[38;5;241m.\u001B[39m_deferred\n\u001B[1;32m---> 89\u001B[0m     \u001B[38;5;28;01mraise\u001B[39;00m \u001B[38;5;167;01mImportError\u001B[39;00m(message) \u001B[38;5;28;01mfrom\u001B[39;00m \u001B[38;5;21;01mexc_value\u001B[39;00m\n",
      "\u001B[1;31mImportError\u001B[0m: Tried to import '_plotly_utils' but failed. Please make sure that the package is installed correctly to use this feature. Actual error: No module named '_plotly_utils'."
     ]
    }
   ],
   "source": [
    "optuna.visualization.plot_contour(study, params=['n_units_l0', 'n_units_l1'])#Selecting Parameters to Visualize"
   ]
  },
  {
   "cell_type": "code",
   "execution_count": 13,
   "metadata": {
    "colab": {
     "base_uri": "https://localhost:8080/",
     "height": 562
    },
    "id": "D2XDYwAA4eZz",
    "outputId": "7c188b5e-4d2a-4772-b44b-add423e7f1ca",
    "ExecuteTime": {
     "end_time": "2023-06-19T11:36:17.943138Z",
     "start_time": "2023-06-19T11:36:17.884194800Z"
    }
   },
   "outputs": [
    {
     "ename": "ImportError",
     "evalue": "Tried to import '_plotly_utils' but failed. Please make sure that the package is installed correctly to use this feature. Actual error: No module named '_plotly_utils'.",
     "output_type": "error",
     "traceback": [
      "\u001B[1;31m---------------------------------------------------------------------------\u001B[0m",
      "\u001B[1;31mModuleNotFoundError\u001B[0m                       Traceback (most recent call last)",
      "File \u001B[1;32mD:\\hard\\anaconda\\lib\\site-packages\\optuna\\visualization\\_plotly_imports.py:7\u001B[0m, in \u001B[0;36m<module>\u001B[1;34m\u001B[0m\n\u001B[0;32m      6\u001B[0m \u001B[38;5;28;01mwith\u001B[39;00m try_import() \u001B[38;5;28;01mas\u001B[39;00m _imports:\n\u001B[1;32m----> 7\u001B[0m     \u001B[38;5;28;01mimport\u001B[39;00m \u001B[38;5;21;01mplotly\u001B[39;00m\n\u001B[0;32m      8\u001B[0m     \u001B[38;5;28;01mfrom\u001B[39;00m \u001B[38;5;21;01mplotly\u001B[39;00m \u001B[38;5;28;01mimport\u001B[39;00m __version__ \u001B[38;5;28;01mas\u001B[39;00m plotly_version\n",
      "File \u001B[1;32mD:\\hard\\anaconda\\lib\\site-packages\\plotly\\__init__.py:30\u001B[0m, in \u001B[0;36m<module>\u001B[1;34m\u001B[0m\n\u001B[0;32m     29\u001B[0m \u001B[38;5;28;01mimport\u001B[39;00m \u001B[38;5;21;01msys\u001B[39;00m\n\u001B[1;32m---> 30\u001B[0m \u001B[38;5;28;01mfrom\u001B[39;00m \u001B[38;5;21;01m_plotly_utils\u001B[39;00m\u001B[38;5;21;01m.\u001B[39;00m\u001B[38;5;21;01mimporters\u001B[39;00m \u001B[38;5;28;01mimport\u001B[39;00m relative_import\n\u001B[0;32m     33\u001B[0m \u001B[38;5;28;01mif\u001B[39;00m sys\u001B[38;5;241m.\u001B[39mversion_info \u001B[38;5;241m<\u001B[39m (\u001B[38;5;241m3\u001B[39m, \u001B[38;5;241m7\u001B[39m):\n",
      "\u001B[1;31mModuleNotFoundError\u001B[0m: No module named '_plotly_utils'",
      "\nThe above exception was the direct cause of the following exception:\n",
      "\u001B[1;31mImportError\u001B[0m                               Traceback (most recent call last)",
      "Input \u001B[1;32mIn [13]\u001B[0m, in \u001B[0;36m<cell line: 1>\u001B[1;34m()\u001B[0m\n\u001B[1;32m----> 1\u001B[0m \u001B[43moptuna\u001B[49m\u001B[38;5;241;43m.\u001B[39;49m\u001B[43mvisualization\u001B[49m\u001B[38;5;241;43m.\u001B[39;49m\u001B[43mplot_slice\u001B[49m\u001B[43m(\u001B[49m\u001B[43mstudy\u001B[49m\u001B[43m)\u001B[49m\n",
      "File \u001B[1;32mD:\\hard\\anaconda\\lib\\site-packages\\optuna\\visualization\\_slice.py:157\u001B[0m, in \u001B[0;36mplot_slice\u001B[1;34m(study, params, target, target_name)\u001B[0m\n\u001B[0;32m    106\u001B[0m \u001B[38;5;28;01mdef\u001B[39;00m \u001B[38;5;21mplot_slice\u001B[39m(\n\u001B[0;32m    107\u001B[0m     study: Study,\n\u001B[0;32m    108\u001B[0m     params: \u001B[38;5;28mlist\u001B[39m[\u001B[38;5;28mstr\u001B[39m] \u001B[38;5;241m|\u001B[39m \u001B[38;5;28;01mNone\u001B[39;00m \u001B[38;5;241m=\u001B[39m \u001B[38;5;28;01mNone\u001B[39;00m,\n\u001B[1;32m   (...)\u001B[0m\n\u001B[0;32m    111\u001B[0m     target_name: \u001B[38;5;28mstr\u001B[39m \u001B[38;5;241m=\u001B[39m \u001B[38;5;124m\"\u001B[39m\u001B[38;5;124mObjective Value\u001B[39m\u001B[38;5;124m\"\u001B[39m,\n\u001B[0;32m    112\u001B[0m ) \u001B[38;5;241m-\u001B[39m\u001B[38;5;241m>\u001B[39m \u001B[38;5;124m\"\u001B[39m\u001B[38;5;124mgo.Figure\u001B[39m\u001B[38;5;124m\"\u001B[39m:\n\u001B[0;32m    113\u001B[0m     \u001B[38;5;124;03m\"\"\"Plot the parameter relationship as slice plot in a study.\u001B[39;00m\n\u001B[0;32m    114\u001B[0m \n\u001B[0;32m    115\u001B[0m \u001B[38;5;124;03m    Note that, if a parameter contains missing values, a trial with missing values is not plotted.\u001B[39;00m\n\u001B[1;32m   (...)\u001B[0m\n\u001B[0;32m    154\u001B[0m \u001B[38;5;124;03m        A :class:`plotly.graph_objs.Figure` object.\u001B[39;00m\n\u001B[0;32m    155\u001B[0m \u001B[38;5;124;03m    \"\"\"\u001B[39;00m\n\u001B[1;32m--> 157\u001B[0m     \u001B[43m_imports\u001B[49m\u001B[38;5;241;43m.\u001B[39;49m\u001B[43mcheck\u001B[49m\u001B[43m(\u001B[49m\u001B[43m)\u001B[49m\n\u001B[0;32m    158\u001B[0m     \u001B[38;5;28;01mreturn\u001B[39;00m _get_slice_plot(_get_slice_plot_info(study, params, target, target_name))\n",
      "File \u001B[1;32mD:\\hard\\anaconda\\lib\\site-packages\\optuna\\_imports.py:89\u001B[0m, in \u001B[0;36m_DeferredImportExceptionContextManager.check\u001B[1;34m(self)\u001B[0m\n\u001B[0;32m     87\u001B[0m \u001B[38;5;28;01mif\u001B[39;00m \u001B[38;5;28mself\u001B[39m\u001B[38;5;241m.\u001B[39m_deferred \u001B[38;5;129;01mis\u001B[39;00m \u001B[38;5;129;01mnot\u001B[39;00m \u001B[38;5;28;01mNone\u001B[39;00m:\n\u001B[0;32m     88\u001B[0m     exc_value, message \u001B[38;5;241m=\u001B[39m \u001B[38;5;28mself\u001B[39m\u001B[38;5;241m.\u001B[39m_deferred\n\u001B[1;32m---> 89\u001B[0m     \u001B[38;5;28;01mraise\u001B[39;00m \u001B[38;5;167;01mImportError\u001B[39;00m(message) \u001B[38;5;28;01mfrom\u001B[39;00m \u001B[38;5;21;01mexc_value\u001B[39;00m\n",
      "\u001B[1;31mImportError\u001B[0m: Tried to import '_plotly_utils' but failed. Please make sure that the package is installed correctly to use this feature. Actual error: No module named '_plotly_utils'."
     ]
    }
   ],
   "source": [
    "optuna.visualization.plot_slice(study)#Plotting the accuracies for each hyperparameter for each trial. Visualizing Individual Parameters"
   ]
  },
  {
   "cell_type": "code",
   "execution_count": 14,
   "metadata": {
    "colab": {
     "base_uri": "https://localhost:8080/",
     "height": 542
    },
    "id": "mIBJIVoICgKV",
    "outputId": "7dd344dc-f0dc-47f4-982e-7228e758e514",
    "ExecuteTime": {
     "end_time": "2023-06-19T11:36:18.448501100Z",
     "start_time": "2023-06-19T11:36:18.406615900Z"
    }
   },
   "outputs": [
    {
     "ename": "ImportError",
     "evalue": "Tried to import '_plotly_utils' but failed. Please make sure that the package is installed correctly to use this feature. Actual error: No module named '_plotly_utils'.",
     "output_type": "error",
     "traceback": [
      "\u001B[1;31m---------------------------------------------------------------------------\u001B[0m",
      "\u001B[1;31mModuleNotFoundError\u001B[0m                       Traceback (most recent call last)",
      "File \u001B[1;32mD:\\hard\\anaconda\\lib\\site-packages\\optuna\\visualization\\_plotly_imports.py:7\u001B[0m, in \u001B[0;36m<module>\u001B[1;34m\u001B[0m\n\u001B[0;32m      6\u001B[0m \u001B[38;5;28;01mwith\u001B[39;00m try_import() \u001B[38;5;28;01mas\u001B[39;00m _imports:\n\u001B[1;32m----> 7\u001B[0m     \u001B[38;5;28;01mimport\u001B[39;00m \u001B[38;5;21;01mplotly\u001B[39;00m\n\u001B[0;32m      8\u001B[0m     \u001B[38;5;28;01mfrom\u001B[39;00m \u001B[38;5;21;01mplotly\u001B[39;00m \u001B[38;5;28;01mimport\u001B[39;00m __version__ \u001B[38;5;28;01mas\u001B[39;00m plotly_version\n",
      "File \u001B[1;32mD:\\hard\\anaconda\\lib\\site-packages\\plotly\\__init__.py:30\u001B[0m, in \u001B[0;36m<module>\u001B[1;34m\u001B[0m\n\u001B[0;32m     29\u001B[0m \u001B[38;5;28;01mimport\u001B[39;00m \u001B[38;5;21;01msys\u001B[39;00m\n\u001B[1;32m---> 30\u001B[0m \u001B[38;5;28;01mfrom\u001B[39;00m \u001B[38;5;21;01m_plotly_utils\u001B[39;00m\u001B[38;5;21;01m.\u001B[39;00m\u001B[38;5;21;01mimporters\u001B[39;00m \u001B[38;5;28;01mimport\u001B[39;00m relative_import\n\u001B[0;32m     33\u001B[0m \u001B[38;5;28;01mif\u001B[39;00m sys\u001B[38;5;241m.\u001B[39mversion_info \u001B[38;5;241m<\u001B[39m (\u001B[38;5;241m3\u001B[39m, \u001B[38;5;241m7\u001B[39m):\n",
      "\u001B[1;31mModuleNotFoundError\u001B[0m: No module named '_plotly_utils'",
      "\nThe above exception was the direct cause of the following exception:\n",
      "\u001B[1;31mImportError\u001B[0m                               Traceback (most recent call last)",
      "Input \u001B[1;32mIn [14]\u001B[0m, in \u001B[0;36m<cell line: 1>\u001B[1;34m()\u001B[0m\n\u001B[1;32m----> 1\u001B[0m \u001B[43moptuna\u001B[49m\u001B[38;5;241;43m.\u001B[39;49m\u001B[43mvisualization\u001B[49m\u001B[38;5;241;43m.\u001B[39;49m\u001B[43mplot_slice\u001B[49m\u001B[43m(\u001B[49m\u001B[43mstudy\u001B[49m\u001B[43m,\u001B[49m\u001B[43m \u001B[49m\u001B[43mparams\u001B[49m\u001B[38;5;241;43m=\u001B[39;49m\u001B[43m[\u001B[49m\u001B[38;5;124;43m'\u001B[39;49m\u001B[38;5;124;43mn_units_l0\u001B[39;49m\u001B[38;5;124;43m'\u001B[39;49m\u001B[43m,\u001B[49m\u001B[43m \u001B[49m\u001B[38;5;124;43m'\u001B[39;49m\u001B[38;5;124;43mn_units_l1\u001B[39;49m\u001B[38;5;124;43m'\u001B[39;49m\u001B[43m]\u001B[49m\u001B[43m)\u001B[49m\n",
      "File \u001B[1;32mD:\\hard\\anaconda\\lib\\site-packages\\optuna\\visualization\\_slice.py:157\u001B[0m, in \u001B[0;36mplot_slice\u001B[1;34m(study, params, target, target_name)\u001B[0m\n\u001B[0;32m    106\u001B[0m \u001B[38;5;28;01mdef\u001B[39;00m \u001B[38;5;21mplot_slice\u001B[39m(\n\u001B[0;32m    107\u001B[0m     study: Study,\n\u001B[0;32m    108\u001B[0m     params: \u001B[38;5;28mlist\u001B[39m[\u001B[38;5;28mstr\u001B[39m] \u001B[38;5;241m|\u001B[39m \u001B[38;5;28;01mNone\u001B[39;00m \u001B[38;5;241m=\u001B[39m \u001B[38;5;28;01mNone\u001B[39;00m,\n\u001B[1;32m   (...)\u001B[0m\n\u001B[0;32m    111\u001B[0m     target_name: \u001B[38;5;28mstr\u001B[39m \u001B[38;5;241m=\u001B[39m \u001B[38;5;124m\"\u001B[39m\u001B[38;5;124mObjective Value\u001B[39m\u001B[38;5;124m\"\u001B[39m,\n\u001B[0;32m    112\u001B[0m ) \u001B[38;5;241m-\u001B[39m\u001B[38;5;241m>\u001B[39m \u001B[38;5;124m\"\u001B[39m\u001B[38;5;124mgo.Figure\u001B[39m\u001B[38;5;124m\"\u001B[39m:\n\u001B[0;32m    113\u001B[0m     \u001B[38;5;124;03m\"\"\"Plot the parameter relationship as slice plot in a study.\u001B[39;00m\n\u001B[0;32m    114\u001B[0m \n\u001B[0;32m    115\u001B[0m \u001B[38;5;124;03m    Note that, if a parameter contains missing values, a trial with missing values is not plotted.\u001B[39;00m\n\u001B[1;32m   (...)\u001B[0m\n\u001B[0;32m    154\u001B[0m \u001B[38;5;124;03m        A :class:`plotly.graph_objs.Figure` object.\u001B[39;00m\n\u001B[0;32m    155\u001B[0m \u001B[38;5;124;03m    \"\"\"\u001B[39;00m\n\u001B[1;32m--> 157\u001B[0m     \u001B[43m_imports\u001B[49m\u001B[38;5;241;43m.\u001B[39;49m\u001B[43mcheck\u001B[49m\u001B[43m(\u001B[49m\u001B[43m)\u001B[49m\n\u001B[0;32m    158\u001B[0m     \u001B[38;5;28;01mreturn\u001B[39;00m _get_slice_plot(_get_slice_plot_info(study, params, target, target_name))\n",
      "File \u001B[1;32mD:\\hard\\anaconda\\lib\\site-packages\\optuna\\_imports.py:89\u001B[0m, in \u001B[0;36m_DeferredImportExceptionContextManager.check\u001B[1;34m(self)\u001B[0m\n\u001B[0;32m     87\u001B[0m \u001B[38;5;28;01mif\u001B[39;00m \u001B[38;5;28mself\u001B[39m\u001B[38;5;241m.\u001B[39m_deferred \u001B[38;5;129;01mis\u001B[39;00m \u001B[38;5;129;01mnot\u001B[39;00m \u001B[38;5;28;01mNone\u001B[39;00m:\n\u001B[0;32m     88\u001B[0m     exc_value, message \u001B[38;5;241m=\u001B[39m \u001B[38;5;28mself\u001B[39m\u001B[38;5;241m.\u001B[39m_deferred\n\u001B[1;32m---> 89\u001B[0m     \u001B[38;5;28;01mraise\u001B[39;00m \u001B[38;5;167;01mImportError\u001B[39;00m(message) \u001B[38;5;28;01mfrom\u001B[39;00m \u001B[38;5;21;01mexc_value\u001B[39;00m\n",
      "\u001B[1;31mImportError\u001B[0m: Tried to import '_plotly_utils' but failed. Please make sure that the package is installed correctly to use this feature. Actual error: No module named '_plotly_utils'."
     ]
    }
   ],
   "source": [
    "optuna.visualization.plot_slice(study, params=['n_units_l0', 'n_units_l1'])#Selecting Parameters to Visualize"
   ]
  },
  {
   "cell_type": "code",
   "execution_count": 15,
   "metadata": {
    "id": "At1CM3POCmQY",
    "ExecuteTime": {
     "end_time": "2023-06-19T11:36:18.927643800Z",
     "start_time": "2023-06-19T11:36:18.874714900Z"
    }
   },
   "outputs": [
    {
     "ename": "ImportError",
     "evalue": "Tried to import '_plotly_utils' but failed. Please make sure that the package is installed correctly to use this feature. Actual error: No module named '_plotly_utils'.",
     "output_type": "error",
     "traceback": [
      "\u001B[1;31m---------------------------------------------------------------------------\u001B[0m",
      "\u001B[1;31mModuleNotFoundError\u001B[0m                       Traceback (most recent call last)",
      "File \u001B[1;32mD:\\hard\\anaconda\\lib\\site-packages\\optuna\\visualization\\_plotly_imports.py:7\u001B[0m, in \u001B[0;36m<module>\u001B[1;34m\u001B[0m\n\u001B[0;32m      6\u001B[0m \u001B[38;5;28;01mwith\u001B[39;00m try_import() \u001B[38;5;28;01mas\u001B[39;00m _imports:\n\u001B[1;32m----> 7\u001B[0m     \u001B[38;5;28;01mimport\u001B[39;00m \u001B[38;5;21;01mplotly\u001B[39;00m\n\u001B[0;32m      8\u001B[0m     \u001B[38;5;28;01mfrom\u001B[39;00m \u001B[38;5;21;01mplotly\u001B[39;00m \u001B[38;5;28;01mimport\u001B[39;00m __version__ \u001B[38;5;28;01mas\u001B[39;00m plotly_version\n",
      "File \u001B[1;32mD:\\hard\\anaconda\\lib\\site-packages\\plotly\\__init__.py:30\u001B[0m, in \u001B[0;36m<module>\u001B[1;34m\u001B[0m\n\u001B[0;32m     29\u001B[0m \u001B[38;5;28;01mimport\u001B[39;00m \u001B[38;5;21;01msys\u001B[39;00m\n\u001B[1;32m---> 30\u001B[0m \u001B[38;5;28;01mfrom\u001B[39;00m \u001B[38;5;21;01m_plotly_utils\u001B[39;00m\u001B[38;5;21;01m.\u001B[39;00m\u001B[38;5;21;01mimporters\u001B[39;00m \u001B[38;5;28;01mimport\u001B[39;00m relative_import\n\u001B[0;32m     33\u001B[0m \u001B[38;5;28;01mif\u001B[39;00m sys\u001B[38;5;241m.\u001B[39mversion_info \u001B[38;5;241m<\u001B[39m (\u001B[38;5;241m3\u001B[39m, \u001B[38;5;241m7\u001B[39m):\n",
      "\u001B[1;31mModuleNotFoundError\u001B[0m: No module named '_plotly_utils'",
      "\nThe above exception was the direct cause of the following exception:\n",
      "\u001B[1;31mImportError\u001B[0m                               Traceback (most recent call last)",
      "Input \u001B[1;32mIn [15]\u001B[0m, in \u001B[0;36m<cell line: 1>\u001B[1;34m()\u001B[0m\n\u001B[1;32m----> 1\u001B[0m \u001B[43moptuna\u001B[49m\u001B[38;5;241;43m.\u001B[39;49m\u001B[43mvisualization\u001B[49m\u001B[38;5;241;43m.\u001B[39;49m\u001B[43mplot_param_importances\u001B[49m\u001B[43m(\u001B[49m\u001B[43mstudy\u001B[49m\u001B[43m)\u001B[49m\n",
      "File \u001B[1;32mD:\\hard\\anaconda\\lib\\site-packages\\optuna\\visualization\\_param_importances.py:138\u001B[0m, in \u001B[0;36mplot_param_importances\u001B[1;34m(study, evaluator, params, target, target_name)\u001B[0m\n\u001B[0;32m     74\u001B[0m \u001B[38;5;28;01mdef\u001B[39;00m \u001B[38;5;21mplot_param_importances\u001B[39m(\n\u001B[0;32m     75\u001B[0m     study: Study,\n\u001B[0;32m     76\u001B[0m     evaluator: BaseImportanceEvaluator \u001B[38;5;241m|\u001B[39m \u001B[38;5;28;01mNone\u001B[39;00m \u001B[38;5;241m=\u001B[39m \u001B[38;5;28;01mNone\u001B[39;00m,\n\u001B[1;32m   (...)\u001B[0m\n\u001B[0;32m     80\u001B[0m     target_name: \u001B[38;5;28mstr\u001B[39m \u001B[38;5;241m=\u001B[39m \u001B[38;5;124m\"\u001B[39m\u001B[38;5;124mObjective Value\u001B[39m\u001B[38;5;124m\"\u001B[39m,\n\u001B[0;32m     81\u001B[0m ) \u001B[38;5;241m-\u001B[39m\u001B[38;5;241m>\u001B[39m \u001B[38;5;124m\"\u001B[39m\u001B[38;5;124mgo.Figure\u001B[39m\u001B[38;5;124m\"\u001B[39m:\n\u001B[0;32m     82\u001B[0m     \u001B[38;5;124;03m\"\"\"Plot hyperparameter importances.\u001B[39;00m\n\u001B[0;32m     83\u001B[0m \n\u001B[0;32m     84\u001B[0m \u001B[38;5;124;03m    Example:\u001B[39;00m\n\u001B[1;32m   (...)\u001B[0m\n\u001B[0;32m    135\u001B[0m \u001B[38;5;124;03m        A :class:`plotly.graph_objs.Figure` object.\u001B[39;00m\n\u001B[0;32m    136\u001B[0m \u001B[38;5;124;03m    \"\"\"\u001B[39;00m\n\u001B[1;32m--> 138\u001B[0m     \u001B[43m_imports\u001B[49m\u001B[38;5;241;43m.\u001B[39;49m\u001B[43mcheck\u001B[49m\u001B[43m(\u001B[49m\u001B[43m)\u001B[49m\n\u001B[0;32m    140\u001B[0m     importances_info \u001B[38;5;241m=\u001B[39m _get_importances_info(study, evaluator, params, target, target_name)\n\u001B[0;32m    141\u001B[0m     hover_template \u001B[38;5;241m=\u001B[39m _get_hover_template(importances_info, study)\n",
      "File \u001B[1;32mD:\\hard\\anaconda\\lib\\site-packages\\optuna\\_imports.py:89\u001B[0m, in \u001B[0;36m_DeferredImportExceptionContextManager.check\u001B[1;34m(self)\u001B[0m\n\u001B[0;32m     87\u001B[0m \u001B[38;5;28;01mif\u001B[39;00m \u001B[38;5;28mself\u001B[39m\u001B[38;5;241m.\u001B[39m_deferred \u001B[38;5;129;01mis\u001B[39;00m \u001B[38;5;129;01mnot\u001B[39;00m \u001B[38;5;28;01mNone\u001B[39;00m:\n\u001B[0;32m     88\u001B[0m     exc_value, message \u001B[38;5;241m=\u001B[39m \u001B[38;5;28mself\u001B[39m\u001B[38;5;241m.\u001B[39m_deferred\n\u001B[1;32m---> 89\u001B[0m     \u001B[38;5;28;01mraise\u001B[39;00m \u001B[38;5;167;01mImportError\u001B[39;00m(message) \u001B[38;5;28;01mfrom\u001B[39;00m \u001B[38;5;21;01mexc_value\u001B[39;00m\n",
      "\u001B[1;31mImportError\u001B[0m: Tried to import '_plotly_utils' but failed. Please make sure that the package is installed correctly to use this feature. Actual error: No module named '_plotly_utils'."
     ]
    }
   ],
   "source": [
    "optuna.visualization.plot_param_importances(study)#Visualizing Parameter Importances"
   ]
  },
  {
   "cell_type": "code",
   "execution_count": 16,
   "metadata": {
    "colab": {
     "base_uri": "https://localhost:8080/",
     "height": 542
    },
    "id": "w2CL1_ixgvnB",
    "outputId": "80aabf56-fbac-422a-d34c-5513650eb91c",
    "ExecuteTime": {
     "end_time": "2023-06-19T11:36:19.616126200Z",
     "start_time": "2023-06-19T11:36:19.555191Z"
    }
   },
   "outputs": [
    {
     "ename": "ImportError",
     "evalue": "Tried to import '_plotly_utils' but failed. Please make sure that the package is installed correctly to use this feature. Actual error: No module named '_plotly_utils'.",
     "output_type": "error",
     "traceback": [
      "\u001B[1;31m---------------------------------------------------------------------------\u001B[0m",
      "\u001B[1;31mModuleNotFoundError\u001B[0m                       Traceback (most recent call last)",
      "File \u001B[1;32mD:\\hard\\anaconda\\lib\\site-packages\\optuna\\visualization\\_plotly_imports.py:7\u001B[0m, in \u001B[0;36m<module>\u001B[1;34m\u001B[0m\n\u001B[0;32m      6\u001B[0m \u001B[38;5;28;01mwith\u001B[39;00m try_import() \u001B[38;5;28;01mas\u001B[39;00m _imports:\n\u001B[1;32m----> 7\u001B[0m     \u001B[38;5;28;01mimport\u001B[39;00m \u001B[38;5;21;01mplotly\u001B[39;00m\n\u001B[0;32m      8\u001B[0m     \u001B[38;5;28;01mfrom\u001B[39;00m \u001B[38;5;21;01mplotly\u001B[39;00m \u001B[38;5;28;01mimport\u001B[39;00m __version__ \u001B[38;5;28;01mas\u001B[39;00m plotly_version\n",
      "File \u001B[1;32mD:\\hard\\anaconda\\lib\\site-packages\\plotly\\__init__.py:30\u001B[0m, in \u001B[0;36m<module>\u001B[1;34m\u001B[0m\n\u001B[0;32m     29\u001B[0m \u001B[38;5;28;01mimport\u001B[39;00m \u001B[38;5;21;01msys\u001B[39;00m\n\u001B[1;32m---> 30\u001B[0m \u001B[38;5;28;01mfrom\u001B[39;00m \u001B[38;5;21;01m_plotly_utils\u001B[39;00m\u001B[38;5;21;01m.\u001B[39;00m\u001B[38;5;21;01mimporters\u001B[39;00m \u001B[38;5;28;01mimport\u001B[39;00m relative_import\n\u001B[0;32m     33\u001B[0m \u001B[38;5;28;01mif\u001B[39;00m sys\u001B[38;5;241m.\u001B[39mversion_info \u001B[38;5;241m<\u001B[39m (\u001B[38;5;241m3\u001B[39m, \u001B[38;5;241m7\u001B[39m):\n",
      "\u001B[1;31mModuleNotFoundError\u001B[0m: No module named '_plotly_utils'",
      "\nThe above exception was the direct cause of the following exception:\n",
      "\u001B[1;31mImportError\u001B[0m                               Traceback (most recent call last)",
      "Input \u001B[1;32mIn [16]\u001B[0m, in \u001B[0;36m<cell line: 1>\u001B[1;34m()\u001B[0m\n\u001B[1;32m----> 1\u001B[0m \u001B[43moptuna\u001B[49m\u001B[38;5;241;43m.\u001B[39;49m\u001B[43mvisualization\u001B[49m\u001B[38;5;241;43m.\u001B[39;49m\u001B[43mplot_edf\u001B[49m\u001B[43m(\u001B[49m\u001B[43mstudy\u001B[49m\u001B[43m)\u001B[49m\n",
      "File \u001B[1;32mD:\\hard\\anaconda\\lib\\site-packages\\optuna\\visualization\\_edf.py:116\u001B[0m, in \u001B[0;36mplot_edf\u001B[1;34m(study, target, target_name)\u001B[0m\n\u001B[0;32m     38\u001B[0m \u001B[38;5;28;01mdef\u001B[39;00m \u001B[38;5;21mplot_edf\u001B[39m(\n\u001B[0;32m     39\u001B[0m     study: Study \u001B[38;5;241m|\u001B[39m Sequence[Study],\n\u001B[0;32m     40\u001B[0m     \u001B[38;5;241m*\u001B[39m,\n\u001B[0;32m     41\u001B[0m     target: Callable[[FrozenTrial], \u001B[38;5;28mfloat\u001B[39m] \u001B[38;5;241m|\u001B[39m \u001B[38;5;28;01mNone\u001B[39;00m \u001B[38;5;241m=\u001B[39m \u001B[38;5;28;01mNone\u001B[39;00m,\n\u001B[0;32m     42\u001B[0m     target_name: \u001B[38;5;28mstr\u001B[39m \u001B[38;5;241m=\u001B[39m \u001B[38;5;124m\"\u001B[39m\u001B[38;5;124mObjective Value\u001B[39m\u001B[38;5;124m\"\u001B[39m,\n\u001B[0;32m     43\u001B[0m ) \u001B[38;5;241m-\u001B[39m\u001B[38;5;241m>\u001B[39m \u001B[38;5;124m\"\u001B[39m\u001B[38;5;124mgo.Figure\u001B[39m\u001B[38;5;124m\"\u001B[39m:\n\u001B[0;32m     44\u001B[0m     \u001B[38;5;124;03m\"\"\"Plot the objective value EDF (empirical distribution function) of a study.\u001B[39;00m\n\u001B[0;32m     45\u001B[0m \n\u001B[0;32m     46\u001B[0m \u001B[38;5;124;03m    Note that only the complete trials are considered when plotting the EDF.\u001B[39;00m\n\u001B[1;32m   (...)\u001B[0m\n\u001B[0;32m    113\u001B[0m \u001B[38;5;124;03m        A :class:`plotly.graph_objs.Figure` object.\u001B[39;00m\n\u001B[0;32m    114\u001B[0m \u001B[38;5;124;03m    \"\"\"\u001B[39;00m\n\u001B[1;32m--> 116\u001B[0m     \u001B[43m_imports\u001B[49m\u001B[38;5;241;43m.\u001B[39;49m\u001B[43mcheck\u001B[49m\u001B[43m(\u001B[49m\u001B[43m)\u001B[49m\n\u001B[0;32m    118\u001B[0m     layout \u001B[38;5;241m=\u001B[39m go\u001B[38;5;241m.\u001B[39mLayout(\n\u001B[0;32m    119\u001B[0m         title\u001B[38;5;241m=\u001B[39m\u001B[38;5;124m\"\u001B[39m\u001B[38;5;124mEmpirical Distribution Function Plot\u001B[39m\u001B[38;5;124m\"\u001B[39m,\n\u001B[0;32m    120\u001B[0m         xaxis\u001B[38;5;241m=\u001B[39m{\u001B[38;5;124m\"\u001B[39m\u001B[38;5;124mtitle\u001B[39m\u001B[38;5;124m\"\u001B[39m: target_name},\n\u001B[0;32m    121\u001B[0m         yaxis\u001B[38;5;241m=\u001B[39m{\u001B[38;5;124m\"\u001B[39m\u001B[38;5;124mtitle\u001B[39m\u001B[38;5;124m\"\u001B[39m: \u001B[38;5;124m\"\u001B[39m\u001B[38;5;124mCumulative Probability\u001B[39m\u001B[38;5;124m\"\u001B[39m},\n\u001B[0;32m    122\u001B[0m     )\n\u001B[0;32m    124\u001B[0m     info \u001B[38;5;241m=\u001B[39m _get_edf_info(study, target, target_name)\n",
      "File \u001B[1;32mD:\\hard\\anaconda\\lib\\site-packages\\optuna\\_imports.py:89\u001B[0m, in \u001B[0;36m_DeferredImportExceptionContextManager.check\u001B[1;34m(self)\u001B[0m\n\u001B[0;32m     87\u001B[0m \u001B[38;5;28;01mif\u001B[39;00m \u001B[38;5;28mself\u001B[39m\u001B[38;5;241m.\u001B[39m_deferred \u001B[38;5;129;01mis\u001B[39;00m \u001B[38;5;129;01mnot\u001B[39;00m \u001B[38;5;28;01mNone\u001B[39;00m:\n\u001B[0;32m     88\u001B[0m     exc_value, message \u001B[38;5;241m=\u001B[39m \u001B[38;5;28mself\u001B[39m\u001B[38;5;241m.\u001B[39m_deferred\n\u001B[1;32m---> 89\u001B[0m     \u001B[38;5;28;01mraise\u001B[39;00m \u001B[38;5;167;01mImportError\u001B[39;00m(message) \u001B[38;5;28;01mfrom\u001B[39;00m \u001B[38;5;21;01mexc_value\u001B[39;00m\n",
      "\u001B[1;31mImportError\u001B[0m: Tried to import '_plotly_utils' but failed. Please make sure that the package is installed correctly to use this feature. Actual error: No module named '_plotly_utils'."
     ]
    }
   ],
   "source": [
    "optuna.visualization.plot_edf(study)"
   ]
  },
  {
   "cell_type": "code",
   "execution_count": 21,
   "outputs": [
    {
     "name": "stdout",
     "output_type": "stream",
     "text": [
      "<optuna.study.study.Study object at 0x000002085F3D8640>\n"
     ]
    }
   ],
   "source": [
    "print(study)"
   ],
   "metadata": {
    "collapsed": false,
    "ExecuteTime": {
     "end_time": "2023-06-19T13:04:00.024538300Z",
     "start_time": "2023-06-19T13:03:59.993255400Z"
    }
   }
  },
  {
   "cell_type": "code",
   "execution_count": 25,
   "outputs": [],
   "source": [
    "import pickle\n",
    "def save_variable(v,filename):\n",
    "    f=open(filename,'wb')\n",
    "    pickle.dump(v,f)\n",
    "    f.close()\n",
    "    return filename\n",
    "def load_variavle(filename):\n",
    "    f=open(filename,'rb')\n",
    "    r=pickle.load(f)\n",
    "    f.close()\n",
    "    return r\n",
    "# a = save_variable(study, 'study.txt')\n",
    "study1 = load_variavle('study.txt')"
   ],
   "metadata": {
    "collapsed": false,
    "ExecuteTime": {
     "end_time": "2023-06-19T13:08:40.112417600Z",
     "start_time": "2023-06-19T13:08:40.092962200Z"
    }
   }
  },
  {
   "cell_type": "code",
   "execution_count": 30,
   "outputs": [
    {
     "name": "stdout",
     "output_type": "stream",
     "text": [
      "<optuna.study.study.Study object at 0x000002085F3D8640>\n",
      "  Value:  9.062891770383885e-09\n",
      "  Params: \n",
      "    n_layers: 3\n",
      "    n_units_l0: 84\n",
      "    n_units_l1: 111\n",
      "    n_units_l2: 32\n",
      "    lr_init: 0.011703102615006086\n",
      "    decay_epochs: 42\n",
      "    decay_rate: 0.6865596993090048\n",
      "    batch_size: 16\n"
     ]
    }
   ],
   "source": [
    "print(study)\n",
    "trial = study.best_trial\n",
    "\n",
    "print(\"  Value: \", trial.value)\n",
    "\n",
    "print(\"  Params: \")\n",
    "for key, value in trial.params.items():\n",
    "    print(\"    {}: {}\".format(key, value))"
   ],
   "metadata": {
    "collapsed": false,
    "ExecuteTime": {
     "end_time": "2023-06-19T13:51:57.105646600Z",
     "start_time": "2023-06-19T13:51:57.099592200Z"
    }
   }
  },
  {
   "cell_type": "code",
   "execution_count": 29,
   "outputs": [
    {
     "name": "stdout",
     "output_type": "stream",
     "text": [
      "<optuna.study.study.Study object at 0x000002081CFFC280>\n",
      "  Value:  9.062891770383885e-09\n",
      "  Params: \n",
      "    n_layers: 3\n",
      "    n_units_l0: 84\n",
      "    n_units_l1: 111\n",
      "    n_units_l2: 32\n",
      "    lr_init: 0.011703102615006086\n",
      "    decay_epochs: 42\n",
      "    decay_rate: 0.6865596993090048\n",
      "    batch_size: 16\n"
     ]
    }
   ],
   "source": [
    "print(study1)\n",
    "trial1 = study1.best_trial\n",
    "print(\"  Value: \", trial1.value)\n",
    "print(\"  Params: \")\n",
    "for key, value in trial1.params.items():\n",
    "    print(\"    {}: {}\".format(key, value))"
   ],
   "metadata": {
    "collapsed": false,
    "ExecuteTime": {
     "end_time": "2023-06-19T13:51:37.636402600Z",
     "start_time": "2023-06-19T13:51:37.628072500Z"
    }
   }
  },
  {
   "cell_type": "code",
   "execution_count": null,
   "outputs": [],
   "source": [],
   "metadata": {
    "collapsed": false
   }
  }
 ],
 "metadata": {
  "colab": {
   "collapsed_sections": [],
   "provenance": []
  },
  "kernelspec": {
   "display_name": "Python 3 (ipykernel)",
   "language": "python",
   "name": "python3"
  },
  "language_info": {
   "codemirror_mode": {
    "name": "ipython",
    "version": 3
   },
   "file_extension": ".py",
   "mimetype": "text/x-python",
   "name": "python",
   "nbconvert_exporter": "python",
   "pygments_lexer": "ipython3",
   "version": "3.9.13"
  }
 },
 "nbformat": 4,
 "nbformat_minor": 1
}
